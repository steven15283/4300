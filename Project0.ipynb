{
  "nbformat": 4,
  "nbformat_minor": 0,
  "metadata": {
    "colab": {
      "name": "Project0.ipynb",
      "provenance": [],
      "collapsed_sections": []
    },
    "kernelspec": {
      "name": "python3",
      "display_name": "Python 3"
    }
  },
  "cells": [
    {
      "cell_type": "markdown",
      "metadata": {
        "id": "MKmHrmqED4Dg"
      },
      "source": [
        "https://www.overleaf.com/5126168723yhzsgwxnhhvf"
      ]
    },
    {
      "cell_type": "code",
      "metadata": {
        "id": "WHKgEtr11WTj"
      },
      "source": [
        "import pandas as pd\n",
        "import numpy as np\n",
        "import matplotlib.pyplot as plt\n",
        "from tensorflow.keras.models import Sequential\n",
        "from tensorflow.keras.layers import Dense"
      ],
      "execution_count": null,
      "outputs": []
    },
    {
      "cell_type": "code",
      "metadata": {
        "colab": {
          "base_uri": "https://localhost:8080/"
        },
        "id": "XOa_yWTY1dXq",
        "outputId": "65a1983a-568b-4225-c5d3-21ab2676c54d"
      },
      "source": [
        "! wget https://raw.githubusercontent.com/steven15283/4300/master/carData.csv\n",
        "data = pd.read_csv('carData.csv', delimiter= ',')"
      ],
      "execution_count": null,
      "outputs": [
        {
          "output_type": "stream",
          "text": [
            "--2021-04-27 04:07:15--  https://raw.githubusercontent.com/steven15283/4300/master/carData.csv\n",
            "Resolving raw.githubusercontent.com (raw.githubusercontent.com)... 185.199.108.133, 185.199.111.133, 185.199.110.133, ...\n",
            "Connecting to raw.githubusercontent.com (raw.githubusercontent.com)|185.199.108.133|:443... connected.\n",
            "HTTP request sent, awaiting response... 200 OK\n",
            "Length: 24250 (24K) [text/plain]\n",
            "Saving to: ‘carData.csv’\n",
            "\n",
            "\rcarData.csv           0%[                    ]       0  --.-KB/s               \rcarData.csv         100%[===================>]  23.68K  --.-KB/s    in 0s      \n",
            "\n",
            "2021-04-27 04:07:16 (103 MB/s) - ‘carData.csv’ saved [24250/24250]\n",
            "\n"
          ],
          "name": "stdout"
        }
      ]
    },
    {
      "cell_type": "code",
      "metadata": {
        "id": "Ibfu9Wnc1lAp"
      },
      "source": [
        "dataset = np.genfromtxt('carData.csv', delimiter= ',', skip_header=True)"
      ],
      "execution_count": null,
      "outputs": []
    },
    {
      "cell_type": "markdown",
      "metadata": {
        "id": "hds-TqUhD54l"
      },
      "source": [
        ""
      ]
    },
    {
      "cell_type": "code",
      "metadata": {
        "colab": {
          "base_uri": "https://localhost:8080/"
        },
        "id": "TmXnNFLxJcog",
        "outputId": "85e6d0a9-d459-4a53-c9e8-a6b84f41ebe2"
      },
      "source": [
        "print(dataset)"
      ],
      "execution_count": null,
      "outputs": [
        {
          "output_type": "stream",
          "text": [
            "[[3. 3. 2. ... 0. 0. 0.]\n",
            " [3. 3. 2. ... 0. 1. 0.]\n",
            " [3. 3. 2. ... 0. 2. 0.]\n",
            " ...\n",
            " [0. 0. 5. ... 2. 0. 0.]\n",
            " [0. 0. 5. ... 2. 1. 2.]\n",
            " [0. 0. 5. ... 2. 2. 3.]]\n"
          ],
          "name": "stdout"
        }
      ]
    },
    {
      "cell_type": "code",
      "metadata": {
        "id": "Q204W8Hge5o6"
      },
      "source": [
        "dataset[dataset[:, -1] > 0, -1] = 1"
      ],
      "execution_count": null,
      "outputs": []
    },
    {
      "cell_type": "code",
      "metadata": {
        "colab": {
          "base_uri": "https://localhost:8080/"
        },
        "id": "E0KVje5xJX7C",
        "outputId": "a187b4bb-e66f-4548-85a2-ecad30f3c8cf"
      },
      "source": [
        "print(dataset)"
      ],
      "execution_count": null,
      "outputs": [
        {
          "output_type": "stream",
          "text": [
            "[[3. 3. 2. ... 0. 0. 0.]\n",
            " [3. 3. 2. ... 0. 1. 0.]\n",
            " [3. 3. 2. ... 0. 2. 0.]\n",
            " ...\n",
            " [0. 0. 5. ... 2. 0. 0.]\n",
            " [0. 0. 5. ... 2. 1. 1.]\n",
            " [0. 0. 5. ... 2. 2. 1.]]\n"
          ],
          "name": "stdout"
        }
      ]
    },
    {
      "cell_type": "code",
      "metadata": {
        "id": "OSN1bYKl15_D"
      },
      "source": [
        "X = dataset[:, :-1]\n",
        "Y = dataset[:, -1]"
      ],
      "execution_count": null,
      "outputs": []
    },
    {
      "cell_type": "code",
      "metadata": {
        "colab": {
          "base_uri": "https://localhost:8080/"
        },
        "id": "ukn6VftRkmyM",
        "outputId": "90412240-9316-418e-f108-ac84998414fa"
      },
      "source": [
        "print(X.shape, Y.shape)\n"
      ],
      "execution_count": null,
      "outputs": [
        {
          "output_type": "stream",
          "text": [
            "(1728, 6) (1728,)\n"
          ],
          "name": "stdout"
        }
      ]
    },
    {
      "cell_type": "code",
      "metadata": {
        "colab": {
          "base_uri": "https://localhost:8080/"
        },
        "id": "fZx8tCJyD2sv",
        "outputId": "c5401781-c9ea-4ce5-ab8d-2f1423019928"
      },
      "source": [
        "print(Y)\n",
        "print(X)"
      ],
      "execution_count": null,
      "outputs": [
        {
          "output_type": "stream",
          "text": [
            "[0. 0. 0. ... 0. 1. 1.]\n",
            "[[3. 3. 2. 2. 0. 0.]\n",
            " [3. 3. 2. 2. 0. 1.]\n",
            " [3. 3. 2. 2. 0. 2.]\n",
            " ...\n",
            " [0. 0. 5. 5. 2. 0.]\n",
            " [0. 0. 5. 5. 2. 1.]\n",
            " [0. 0. 5. 5. 2. 2.]]\n"
          ],
          "name": "stdout"
        }
      ]
    },
    {
      "cell_type": "code",
      "metadata": {
        "id": "jPSHjown55ag"
      },
      "source": [
        "plt.hist(dataset[:,0])\n",
        "plt.title(\"Histogram of price rating\")\n",
        "price_rating_mean = np.mean(dataset[:,0])\n",
        "price_rating_median = np.median(dataset[:,0])\n",
        "price_rating_max = np.max(dataset[:,0])\n",
        "price_rating_min = np.min(dataset[:,0])\n",
        "\n",
        "print(price_rating_mean, price_rating_median, price_rating_max, price_rating_min)"
      ],
      "execution_count": null,
      "outputs": []
    },
    {
      "cell_type": "code",
      "metadata": {
        "id": "DYc58cHz6CC5"
      },
      "source": [
        "plt.hist(dataset[:,1])\n",
        "plt.title(\"Histogram of maintenance rating\")\n",
        "maintenance_rating_mean = np.mean(dataset[:,1])\n",
        "maintenance_rating_median = np.median(dataset[:,1])\n",
        "maintenance_rating_max = np.max(dataset[:,1])\n",
        "maintenance_rating_min = np.min(dataset[:,1])\n",
        "\n",
        "print(maintenance_rating_mean, maintenance_rating_median, maintenance_rating_max, maintenance_rating_min)"
      ],
      "execution_count": null,
      "outputs": []
    },
    {
      "cell_type": "code",
      "metadata": {
        "id": "AYVyhRZd6FGR"
      },
      "source": [
        "plt.hist(dataset[:,2])\n",
        "plt.title(\"Histogram of how many doors\")\n",
        "door_mean = np.mean(dataset[:,2])\n",
        "door_median = np.median(dataset[:,2])\n",
        "door_max = np.max(dataset[:,2])\n",
        "door_min = np.min(dataset[:,2])\n",
        "\n",
        "print(door_mean, door_median, door_max, door_min)"
      ],
      "execution_count": null,
      "outputs": []
    },
    {
      "cell_type": "code",
      "metadata": {
        "id": "ynM1s8_V6JA4"
      },
      "source": [
        "plt.hist(dataset[:,3])\n",
        "plt.title(\"Histogram of how many people can fit\")\n",
        "passenger_number_mean = np.mean(dataset[:,3])\n",
        "passenger_number_median = np.median(dataset[:,3])\n",
        "passenger_number_max = np.max(dataset[:,3])\n",
        "passenger_number_min = np.min(dataset[:,3])\n",
        "\n",
        "print(passenger_number_mean, passenger_number_median, passenger_number_max, passenger_number_min)"
      ],
      "execution_count": null,
      "outputs": []
    },
    {
      "cell_type": "code",
      "metadata": {
        "id": "_KWy_ikm56NR"
      },
      "source": [
        "plt.hist(dataset[:,4])\n",
        "plt.title(\"Histogram of lug boot capacity rating\")\n",
        "lug_boot_capacity_rating_mean = np.mean(dataset[:,4])\n",
        "lug_boot_capacity_rating_median = np.median(dataset[:,4])\n",
        "lug_boot_capacity_rating_max = np.max(dataset[:,4])\n",
        "lug_boot_capacity_rating_min = np.min(dataset[:,4])\n",
        "\n",
        "print(lug_boot_capacity_rating_mean, lug_boot_capacity_rating_median, lug_boot_capacity_rating_max, lug_boot_capacity_rating_min)"
      ],
      "execution_count": null,
      "outputs": []
    },
    {
      "cell_type": "code",
      "metadata": {
        "id": "Cehb2RHL6Rng"
      },
      "source": [
        "plt.hist(dataset[:,5])\n",
        "plt.title(\"Histogram of safety rating\")\n",
        "safety_rating_mean = np.mean(dataset[:,5])\n",
        "safety_rating_median = np.median(dataset[:,5])\n",
        "safety_rating_max = np.max(dataset[:,5])\n",
        "safety_rating_min = np.min(dataset[:,5])\n",
        "\n",
        "print(safety_rating_mean, safety_rating_median, safety_rating_max, safety_rating_min)"
      ],
      "execution_count": null,
      "outputs": []
    },
    {
      "cell_type": "code",
      "metadata": {
        "id": "rjBP60wz6Va6"
      },
      "source": [
        "plt.hist(dataset[:,6])\n",
        "plt.title(\"acceptibility of car\")\n",
        "acceptibility_mean = np.mean(dataset[:,6])\n",
        "acceptibility_median = np.median(dataset[:,6])\n",
        "acceptibility_max = np.max(dataset[:,6])\n",
        "acceptibility_min = np.min(dataset[:,6])\n",
        "\n",
        "print(acceptibility_mean, acceptibility_median, acceptibility_max, acceptibility_min)"
      ],
      "execution_count": null,
      "outputs": []
    },
    {
      "cell_type": "code",
      "metadata": {
        "id": "wBgaypPR6Zau"
      },
      "source": [
        "data['value'].value_counts()"
      ],
      "execution_count": null,
      "outputs": []
    },
    {
      "cell_type": "code",
      "metadata": {
        "id": "9qF0ijSz6f0B"
      },
      "source": [
        "model = Sequential()\n",
        "model.add(Dense(1, input_dim = 1, activation='linear'))\n",
        "model.compile(loss='mse', optimizer='rmsprop', metrics=['mae'])\n",
        "model.fit(dataset[:,0], dataset[:, 1], epochs = 64, batch_size = 32, verbose =0)\n",
        "predictions = model.predict(dataset[:, 0])\n",
        "print(predictions[:5])\n",
        "actual_predictions = predictions * fixedAcidity_max\n",
        "print(actual_predictions)"
      ],
      "execution_count": null,
      "outputs": []
    },
    {
      "cell_type": "code",
      "metadata": {
        "id": "N05yI3eibNEf"
      },
      "source": [
        "model = Sequential()\n",
        "model.add(Dense(8, input_dim = len(X[0, :]), activation= 'relu'))\n",
        "model.add(Dense(4, activation='relu'))\n",
        "model.add(Dense(1, activation='sigmoid'))\n",
        "model.compile(loss='binary_crossentropy', optimizer='rmsprop', metrics=['accuracy'])\n",
        "model.fit(X,Y, epochs = 256, verbose = 1 )\n",
        "prediction = model.predict(X)"
      ],
      "execution_count": null,
      "outputs": []
    },
    {
      "cell_type": "code",
      "metadata": {
        "colab": {
          "base_uri": "https://localhost:8080/"
        },
        "id": "DL6mR4p7dKYL",
        "outputId": "8d2f0abc-9090-4d68-874e-a03b876ced4a"
      },
      "source": [
        "print(prediction)"
      ],
      "execution_count": null,
      "outputs": [
        {
          "output_type": "stream",
          "text": [
            "[[2.6583982e-12]\n",
            " [3.3380549e-09]\n",
            " [3.9373034e-09]\n",
            " ...\n",
            " [8.7935150e-02]\n",
            " [9.9123722e-01]\n",
            " [9.9970722e-01]]\n"
          ],
          "name": "stdout"
        }
      ]
    },
    {
      "cell_type": "code",
      "metadata": {
        "colab": {
          "base_uri": "https://localhost:8080/"
        },
        "id": "6DcrKVyKQ2iR",
        "outputId": "50a9f49b-4a84-4ff7-9076-4c14b6fd647e"
      },
      "source": [
        "from sklearn.metrics import accuracy_score, precision_score, recall_score, f1_score\n",
        "accuracy = accuracy_score(Y, prediction.round())\n",
        "precision = precision_score(Y, prediction.round())\n",
        "recall = recall_score(Y, prediction.round())\n",
        "f1score = f1_score(Y, prediction.round())\n",
        "print(\"Accuracy: %.2f%%\" % (accuracy * 100.0))\n",
        "print(\"Precision: %.2f%%\" % (precision * 100.0))\n",
        "print(\"Recall: %.2f%%\" % (recall * 100.0))\n",
        "print(\"F1-score: %.2f\" % (f1score))"
      ],
      "execution_count": null,
      "outputs": [
        {
          "output_type": "stream",
          "text": [
            "Accuracy: 95.78%\n",
            "Precision: 91.43%\n",
            "Recall: 94.79%\n",
            "F1-score: 0.93\n"
          ],
          "name": "stdout"
        }
      ]
    },
    {
      "cell_type": "code",
      "metadata": {
        "colab": {
          "base_uri": "https://localhost:8080/"
        },
        "id": "nsI7zYNs04LL",
        "outputId": "0c56d7eb-4f4a-45f3-9702-47111a49a111"
      },
      "source": [
        "model.summary()"
      ],
      "execution_count": null,
      "outputs": [
        {
          "output_type": "stream",
          "text": [
            "Model: \"sequential\"\n",
            "_________________________________________________________________\n",
            "Layer (type)                 Output Shape              Param #   \n",
            "=================================================================\n",
            "dense (Dense)                (None, 8)                 56        \n",
            "_________________________________________________________________\n",
            "dense_1 (Dense)              (None, 4)                 36        \n",
            "_________________________________________________________________\n",
            "dense_2 (Dense)              (None, 1)                 5         \n",
            "=================================================================\n",
            "Total params: 97\n",
            "Trainable params: 97\n",
            "Non-trainable params: 0\n",
            "_________________________________________________________________\n"
          ],
          "name": "stdout"
        }
      ]
    },
    {
      "cell_type": "code",
      "metadata": {
        "colab": {
          "base_uri": "https://localhost:8080/"
        },
        "id": "vS_qUGRvw4MU",
        "outputId": "10af23a7-b4a5-4865-d700-f06eb50f95be"
      },
      "source": [
        "print(prediction[:20])"
      ],
      "execution_count": null,
      "outputs": [
        {
          "output_type": "stream",
          "text": [
            "[[2.6583982e-12]\n",
            " [3.3380549e-09]\n",
            " [3.9373034e-09]\n",
            " [1.3820542e-10]\n",
            " [8.7517993e-09]\n",
            " [1.8278348e-08]\n",
            " [7.1850690e-09]\n",
            " [2.2945695e-08]\n",
            " [8.9848278e-08]\n",
            " [4.4770654e-12]\n",
            " [3.5597125e-08]\n",
            " [4.0310049e-05]\n",
            " [2.5748270e-10]\n",
            " [2.0472439e-06]\n",
            " [1.1691395e-04]\n",
            " [1.4808215e-08]\n",
            " [1.0190397e-04]\n",
            " [3.3894181e-04]\n",
            " [1.7429390e-11]\n",
            " [6.3240520e-08]]\n"
          ],
          "name": "stdout"
        }
      ]
    },
    {
      "cell_type": "code",
      "metadata": {
        "colab": {
          "base_uri": "https://localhost:8080/"
        },
        "id": "iSB01QGyxIVp",
        "outputId": "75c693bc-435f-4a84-cdd7-2ad21d43bead"
      },
      "source": [
        "print(Y[:20])"
      ],
      "execution_count": null,
      "outputs": [
        {
          "output_type": "stream",
          "text": [
            "[0. 0. 0. 0. 0. 0. 0. 0. 0. 0. 0. 0. 0. 0. 0. 0. 0. 0. 0. 0.]\n"
          ],
          "name": "stdout"
        }
      ]
    },
    {
      "cell_type": "code",
      "metadata": {
        "id": "Rk5VOWaGyfvR",
        "colab": {
          "base_uri": "https://localhost:8080/"
        },
        "outputId": "d4df4c7b-d9ba-4bac-d0fa-bc9ec9f3cc5d"
      },
      "source": [
        "len(Y)"
      ],
      "execution_count": null,
      "outputs": [
        {
          "output_type": "execute_result",
          "data": {
            "text/plain": [
              "1728"
            ]
          },
          "metadata": {
            "tags": []
          },
          "execution_count": 107
        }
      ]
    },
    {
      "cell_type": "code",
      "metadata": {
        "id": "scv6LPBdBKOs",
        "colab": {
          "base_uri": "https://localhost:8080/"
        },
        "outputId": "550540fa-b67a-4cfd-9941-41a23441ec17"
      },
      "source": [
        "# Shuffle the datasets\n",
        "import random\n",
        "np.random.shuffle(dataset)\n",
        "print(dataset.shape)"
      ],
      "execution_count": null,
      "outputs": [
        {
          "output_type": "stream",
          "text": [
            "(1728, 7)\n"
          ],
          "name": "stdout"
        }
      ]
    },
    {
      "cell_type": "code",
      "metadata": {
        "id": "Op8omxQgIMJd",
        "colab": {
          "base_uri": "https://localhost:8080/"
        },
        "outputId": "5c9a2e02-e2a0-49cc-f6ba-d764e6194028"
      },
      "source": [
        "index_30percent = int(0.3 * len(dataset[:, 0]))\n",
        "print(index_30percent)"
      ],
      "execution_count": null,
      "outputs": [
        {
          "output_type": "stream",
          "text": [
            "518\n"
          ],
          "name": "stdout"
        }
      ]
    },
    {
      "cell_type": "code",
      "metadata": {
        "id": "ScOUSBMjBMJx"
      },
      "source": [
        "# Split into training and validation, 30% validation set and 70% training \n",
        "XVALID = dataset[:index_30percent, :-1]\n",
        "YVALID = dataset[:index_30percent, -1]\n",
        "XTRAIN = dataset[index_30percent:, :-1]\n",
        "YTRAIN = dataset[index_30percent:, -1]"
      ],
      "execution_count": null,
      "outputs": []
    },
    {
      "cell_type": "code",
      "metadata": {
        "colab": {
          "base_uri": "https://localhost:8080/",
          "height": 298
        },
        "id": "ai24uEMBEgm9",
        "outputId": "1d09a490-f2c9-4bb2-a870-e2f89ea88bdc"
      },
      "source": [
        "plt.hist(XVALID)\n",
        "plt.hist(YVALID)\n",
        "plt.title(\"x/y validation\")\n",
        "plt.legend(['buying price', 'maintenance cost rating', 'number of doors', 'number of persons', 'lug boot size rating', 'safety rating'], loc='upper right')"
      ],
      "execution_count": null,
      "outputs": [
        {
          "output_type": "execute_result",
          "data": {
            "text/plain": [
              "<matplotlib.legend.Legend at 0x7fae3ca4fb90>"
            ]
          },
          "metadata": {
            "tags": []
          },
          "execution_count": 23
        },
        {
          "output_type": "display_data",
          "data": {
            "image/png": "[encoded data removed]",
            "text/plain": [
              "<Figure size 432x288 with 1 Axes>"
            ]
          },
          "metadata": {
            "tags": [],
            "needs_background": "light"
          }
        }
      ]
    },
    {
      "cell_type": "code",
      "metadata": {
        "colab": {
          "base_uri": "https://localhost:8080/",
          "height": 298
        },
        "id": "ARHzRrp_En0d",
        "outputId": "1c37eb20-69f1-4485-aa08-1c69aa618ddb"
      },
      "source": [
        "plt.hist(XTRAIN)\n",
        "plt.hist(YTRAIN)\n",
        "plt.title(\"x/y training\")\n",
        "plt.legend(['buying price', 'maintenance cost rating', 'number of doors', 'number of persons', 'lug boot size rating', 'safety rating'], loc='upper right')"
      ],
      "execution_count": null,
      "outputs": [
        {
          "output_type": "execute_result",
          "data": {
            "text/plain": [
              "<matplotlib.legend.Legend at 0x7fae3ca6fe10>"
            ]
          },
          "metadata": {
            "tags": []
          },
          "execution_count": 24
        },
        {
          "output_type": "display_data",
          "data": {
            "image/png": "[encoded data removed]",
            "text/plain": [
              "<Figure size 432x288 with 1 Axes>"
            ]
          },
          "metadata": {
            "tags": [],
            "needs_background": "light"
          }
        }
      ]
    },
    {
      "cell_type": "code",
      "metadata": {
        "id": "ar5DwQBkr3LG"
      },
      "source": [
        "#accuracy on the validation set linear\n",
        "model = Sequential()\n",
        "model.add(Dense(6, input_dim = len(XTRAIN[0, :]), activation = 'linear')) \n",
        "# 1 neuron in the last layer\n",
        "model.add(Dense(1, activation = 'linear'))\n",
        "model.summary()\n",
        "model.compile(loss='mse', optimizer='rmsprop', metrics=['mae'])\n",
        "# Learn the model from training set\n",
        "model.fit(XTRAIN, YTRAIN)\n",
        "# Evaluate on the training set (should deliver high accuracy)\n",
        "p_training = model.predict(XTRAIN)\n",
        "accuracyt = model.evaluate(XTRAIN, YTRAIN)\n",
        "#Evaluate on the validation set\n",
        "p_valid = model.predict(XVALID)\n",
        "accuracyv = model.evaluate(XVALID, YVALID)\n",
        "print(accuracyv)\n",
        "print(accuracyt)\n",
        "\n",
        "# Do the training (specify the validation set as well)\n",
        "history = model.fit(XTRAIN, YTRAIN, validation_data = (XVALID, YVALID), verbose = 1, epochs  = 256)\n",
        "# Check what's in the history\n",
        "print(history.params)\n",
        "\n",
        "# Plot the learning curves (loss/MAE)\n",
        "plt.plot(history.history['mae']) # replace with accuracy/MAE\n",
        "plt.plot(history.history['val_mae']) # replace with val_accuracy, etc.\n",
        "plt.ylabel('mae')\n",
        "plt.xlabel('epoch')\n",
        "plt.legend(['training data', 'validation data'], loc='upper right')\n",
        "plt.title(\"linear\")\n",
        "plt.show()\n",
        "\n",
        "print(\"Training\")\n",
        "from sklearn.metrics import accuracy_score, precision_score, recall_score, f1_score\n",
        "accuracy = accuracy_score(YTRAIN, p_training.round())\n",
        "precision = precision_score(YTRAIN, p_training.round(), average='weighted')\n",
        "recall = recall_score(YTRAIN, p_training.round(), average='weighted')\n",
        "f1score = f1_score(YTRAIN, p_training.round(), average='weighted')\n",
        "print(\"Accuracy: %.2f%%\" % (accuracy * 100.0))\n",
        "print(\"Precision: %.2f%%\" % (precision * 100.0))\n",
        "print(\"Recall: %.2f%%\" % (recall * 100.0))\n",
        "print(\"F1-score: %.2f\" % (f1score))\n",
        "\n",
        "from sklearn.metrics import accuracy_score, precision_score, recall_score, f1_score\n",
        "accuracy = accuracy_score(YVALID, p_valid.round())\n",
        "precision = precision_score(YVALID, p_valid.round(), average='weighted')\n",
        "recall = recall_score(YVALID, p_valid.round(), average='weighted')\n",
        "f1score = f1_score(YVALID, p_valid.round(), average='weighted')\n",
        "print(\"Validation\")\n",
        "print(\"Accuracy: %.2f%%\" % (accuracy * 100.0))\n",
        "print(\"Precision: %.2f%%\" % (precision * 100.0))\n",
        "print(\"Recall: %.2f%%\" % (recall * 100.0))\n",
        "print(\"F1-score: %.2f\" % (f1score))"
      ],
      "execution_count": null,
      "outputs": []
    },
    {
      "cell_type": "code",
      "metadata": {
        "id": "QuhTBqvCFVSS"
      },
      "source": [
        "model = Sequential()\n",
        "# 4 neurons in the first layer\n",
        "model.add(Dense(6, input_dim = len(XTRAIN[0, :]), activation = 'relu')) \n",
        "# 1 neuron in the last layer\n",
        "model.add(Dense(1, activation = 'sigmoid'))\n",
        "model.summary()\n",
        "model.compile(loss='binary_crossentropy', optimizer='rmsprop', metrics=['accuracy'])\n",
        "# Learn the model from training set\n",
        "model.fit(XTRAIN, YTRAIN)\n",
        "# Evaluate on the training set (should deliver high accuracy)\n",
        "p_training = model.predict(XTRAIN)\n",
        "accuracyt = model.evaluate(XTRAIN, YTRAIN)\n",
        "#Evaluate on the validation set\n",
        "p_valid = model.predict(XVALID)\n",
        "accuracyv = model.evaluate(XVALID, YVALID)\n",
        "print(accuracyv)\n",
        "print(accuracyt)\n",
        "# Do the training (specify the validation set as well)\n",
        "history = model.fit(XTRAIN, YTRAIN, validation_data = (XVALID, YVALID), verbose = 1, epochs  = 256)\n",
        "# Check what's in the history\n",
        "print(history.params)\n",
        "\n",
        "# Plot the learning curves (loss/accuracy/MAE)\n",
        "plt.plot(history.history['accuracy']) # replace with accuracy/MAE\n",
        "plt.plot(history.history['val_accuracy']) # replace with val_accuracy, etc.\n",
        "plt.ylabel('Accuracy')\n",
        "plt.xlabel('epoch')\n",
        "plt.legend(['training data', 'validation data'], loc='lower right')\n",
        "plt.title(\"1 layer\")\n",
        "plt.show()\n",
        "print(\"Training\")\n",
        "from sklearn.metrics import accuracy_score, precision_score, recall_score, f1_score\n",
        "accuracy = accuracy_score(YTRAIN, p_training.round())\n",
        "precision = precision_score(YTRAIN, p_training.round())\n",
        "recall = recall_score(YTRAIN, p_training.round())\n",
        "f1score = f1_score(YTRAIN, p_training.round())\n",
        "print(\"Accuracy: %.2f%%\" % (accuracy * 100.0))\n",
        "print(\"Precision: %.2f%%\" % (precision * 100.0))\n",
        "print(\"Recall: %.2f%%\" % (recall * 100.0))\n",
        "print(\"F1-score: %.2f\" % (f1score))\n",
        "\n",
        "from sklearn.metrics import accuracy_score, precision_score, recall_score, f1_score\n",
        "accuracy = accuracy_score(YVALID, p_valid.round())\n",
        "precision = precision_score(YVALID, p_valid.round())\n",
        "recall = recall_score(YVALID, p_valid.round())\n",
        "f1score = f1_score(YVALID, p_valid.round())\n",
        "print(\"Validation\")\n",
        "print(\"Accuracy: %.2f%%\" % (accuracy * 100.0))\n",
        "print(\"Precision: %.2f%%\" % (precision * 100.0))\n",
        "print(\"Recall: %.2f%%\" % (recall * 100.0))\n",
        "print(\"F1-score: %.2f\" % (f1score))"
      ],
      "execution_count": null,
      "outputs": []
    },
    {
      "cell_type": "code",
      "metadata": {
        "id": "cYwacZuoFw4-"
      },
      "source": [
        "model = Sequential()\n",
        "model.add(Dense(6, input_dim = len(XTRAIN[0, :]), activation = 'relu')) \n",
        "model.add(Dense(8, activation='relu'))\n",
        "# 1 neuron in the last layer\n",
        "model.add(Dense(1, activation = 'sigmoid'))\n",
        "model.summary()\n",
        "model.compile(loss='binary_crossentropy', optimizer='rmsprop', metrics=['accuracy'])\n",
        "# Learn the model from training set\n",
        "model.fit(XTRAIN, YTRAIN)\n",
        "# Evaluate on the training set (should deliver high accuracy)\n",
        "p_training = model.predict(XTRAIN)\n",
        "accuracyt = model.evaluate(XTRAIN, YTRAIN)\n",
        "#Evaluate on the validation set\n",
        "p_valid = model.predict(XVALID)\n",
        "accuracyv = model.evaluate(XVALID, YVALID)\n",
        "print(accuracyv)\n",
        "print(accuracyt)\n",
        "# Do the training (specify the validation set as well)\n",
        "history = model.fit(XTRAIN, YTRAIN, validation_data = (XVALID, YVALID), verbose = 1, epochs  = 256)\n",
        "# Check what's in the history\n",
        "print(history.params)\n",
        "\n",
        "# Plot the learning curves (loss/accuracy/MAE)\n",
        "plt.plot(history.history['accuracy']) # replace with accuracy/MAE\n",
        "plt.plot(history.history['val_accuracy']) # replace with val_accuracy, etc.\n",
        "plt.ylabel('Accuracy')\n",
        "plt.xlabel('epoch')\n",
        "plt.legend(['training data', 'validation data'], loc='lower right')\n",
        "plt.title(\"2 layer\")\n",
        "plt.show()\n",
        "\n",
        "print(\"Training\")\n",
        "\n",
        "accuracy = accuracy_score(YTRAIN, p_training.round())\n",
        "precision = precision_score(YTRAIN, p_training.round())\n",
        "recall = recall_score(YTRAIN, p_training.round())\n",
        "f1score = f1_score(YTRAIN, p_training.round())\n",
        "print(\"Accuracy: %.2f%%\" % (accuracy * 100.0))\n",
        "print(\"Precision: %.2f%%\" % (precision * 100.0))\n",
        "print(\"Recall: %.2f%%\" % (recall * 100.0))\n",
        "print(\"F1-score: %.2f\" % (f1score))\n",
        "\n",
        "\n",
        "accuracy = accuracy_score(YVALID, p_valid.round())\n",
        "precision = precision_score(YVALID, p_valid.round())\n",
        "recall = recall_score(YVALID, p_valid.round())\n",
        "f1score = f1_score(YVALID, p_valid.round())\n",
        "print(\"Validation\")\n",
        "print(\"Accuracy: %.2f%%\" % (accuracy * 100.0))\n",
        "print(\"Precision: %.2f%%\" % (precision * 100.0))\n",
        "print(\"Recall: %.2f%%\" % (recall * 100.0))\n",
        "print(\"F1-score: %.2f\" % (f1score))"
      ],
      "execution_count": null,
      "outputs": []
    },
    {
      "cell_type": "code",
      "metadata": {
        "id": "FTXAZaDQGlxD"
      },
      "source": [
        "model = Sequential()\n",
        "# 4 neurons in the first layer\n",
        "model.add(Dense(6, input_dim = len(XTRAIN[0, :]), activation = 'relu')) \n",
        "model.add(Dense(8, activation='relu'))\n",
        "model.add(Dense(16, activation='relu'))\n",
        "# 1 neuron in the last layer\n",
        "model.add(Dense(1, activation = 'sigmoid'))\n",
        "model.summary()\n",
        "model.compile(loss='binary_crossentropy', optimizer='rmsprop', metrics=['accuracy'])\n",
        "# Learn the model from training set\n",
        "model.fit(XTRAIN, YTRAIN)\n",
        "# Evaluate on the training set (should deliver high accuracy)\n",
        "p_training = model.predict(XTRAIN)\n",
        "accuracyt = model.evaluate(XTRAIN, YTRAIN)\n",
        "#Evaluate on the validation set\n",
        "p_valid = model.predict(XVALID)\n",
        "accuracyv = model.evaluate(XVALID, YVALID)\n",
        "print(accuracyv)\n",
        "print(accuracyt)\n",
        "# Do the training (specify the validation set as well)\n",
        "history = model.fit(XTRAIN, YTRAIN, validation_data = (XVALID, YVALID), verbose = 1, epochs  = 256)\n",
        "# Check what's in the history\n",
        "print(history.params)\n",
        "\n",
        "# Plot the learning curves (loss/accuracy/MAE)\n",
        "plt.plot(history.history['accuracy']) # replace with accuracy/MAE\n",
        "plt.plot(history.history['val_accuracy']) # replace with val_accuracy, etc.\n",
        "plt.ylabel('Accuracy')\n",
        "plt.xlabel('epoch')\n",
        "plt.legend(['training data', 'validation data'], loc='lower right')\n",
        "plt.title(\"3 layer\")\n",
        "plt.show()\n",
        "\n",
        "print(\"Training\")\n",
        "from sklearn.metrics import accuracy_score, precision_score, recall_score, f1_score\n",
        "accuracy = accuracy_score(YTRAIN, p_training.round())\n",
        "precision = precision_score(YTRAIN, p_training.round())\n",
        "recall = recall_score(YTRAIN, p_training.round())\n",
        "f1score = f1_score(YTRAIN, p_training.round())\n",
        "print(\"Accuracy: %.2f%%\" % (accuracy * 100.0))\n",
        "print(\"Precision: %.2f%%\" % (precision * 100.0))\n",
        "print(\"Recall: %.2f%%\" % (recall * 100.0))\n",
        "print(\"F1-score: %.2f\" % (f1score))\n",
        "\n",
        "from sklearn.metrics import accuracy_score, precision_score, recall_score, f1_score\n",
        "accuracy = accuracy_score(YVALID, p_valid.round())\n",
        "precision = precision_score(YVALID, p_valid.round())\n",
        "recall = recall_score(YVALID, p_valid.round())\n",
        "f1score = f1_score(YVALID, p_valid.round())\n",
        "print(\"Validation\")\n",
        "print(\"Accuracy: %.2f%%\" % (accuracy * 100.0))\n",
        "print(\"Precision: %.2f%%\" % (precision * 100.0))\n",
        "print(\"Recall: %.2f%%\" % (recall * 100.0))\n",
        "print(\"F1-score: %.2f\" % (f1score))"
      ],
      "execution_count": null,
      "outputs": []
    },
    {
      "cell_type": "code",
      "metadata": {
        "id": "DfOYgUpPHDXl"
      },
      "source": [
        "model = Sequential()\n",
        "# 4 neurons in the first layer\n",
        "model.add(Dense(6, input_dim = len(XTRAIN[0, :]), activation = 'relu')) \n",
        "model.add(Dense(12, activation='relu'))\n",
        "model.add(Dense(24, activation='relu'))\n",
        "model.add(Dense(48, activation='relu'))\n",
        "# 1 neuron in the last layer\n",
        "model.add(Dense(1, activation = 'sigmoid'))\n",
        "model.summary()\n",
        "model.compile(loss='binary_crossentropy', optimizer='rmsprop', metrics=['accuracy'])\n",
        "# Learn the model from training set\n",
        "model.fit(XTRAIN, YTRAIN)\n",
        "# Evaluate on the training set (should deliver high accuracy)\n",
        "p_training = model.predict(XTRAIN)\n",
        "accuracyt = model.evaluate(XTRAIN, YTRAIN)\n",
        "#Evaluate on the validation set\n",
        "p_valid = model.predict(XVALID)\n",
        "accuracyv = model.evaluate(XVALID, YVALID)\n",
        "print(accuracyv)\n",
        "print(accuracyt)\n",
        "# Do the training (specify the validation set as well)\n",
        "history = model.fit(XTRAIN, YTRAIN, validation_data = (XVALID, YVALID), verbose = 1, epochs  = 256)\n",
        "# Check what's in the history\n",
        "print(history.params)\n",
        "\n",
        "# Plot the learning curves (loss/accuracy/MAE)\n",
        "plt.plot(history.history['accuracy']) # replace with accuracy/MAE\n",
        "plt.plot(history.history['val_accuracy']) # replace with val_accuracy, etc.\n",
        "plt.ylabel('Accuracy')\n",
        "plt.xlabel('epoch')\n",
        "plt.legend(['training data', 'validation data'], loc='lower right')\n",
        "plt.title(\"4 layer\")\n",
        "plt.show()\n",
        "\n",
        "print(\"Training\")\n",
        "from sklearn.metrics import accuracy_score, precision_score, recall_score, f1_score\n",
        "accuracy = accuracy_score(YTRAIN, p_training.round())\n",
        "precision = precision_score(YTRAIN, p_training.round())\n",
        "recall = recall_score(YTRAIN, p_training.round())\n",
        "f1score = f1_score(YTRAIN, p_training.round())\n",
        "print(\"Accuracy: %.2f%%\" % (accuracy * 100.0))\n",
        "print(\"Precision: %.2f%%\" % (precision * 100.0))\n",
        "print(\"Recall: %.2f%%\" % (recall * 100.0))\n",
        "print(\"F1-score: %.2f\" % (f1score))\n",
        "\n",
        "from sklearn.metrics import accuracy_score, precision_score, recall_score, f1_score\n",
        "accuracy = accuracy_score(YVALID, p_valid.round())\n",
        "precision = precision_score(YVALID, p_valid.round())\n",
        "recall = recall_score(YVALID, p_valid.round())\n",
        "f1score = f1_score(YVALID, p_valid.round())\n",
        "print(\"Validation\")\n",
        "print(\"Accuracy: %.2f%%\" % (accuracy * 100.0))\n",
        "print(\"Precision: %.2f%%\" % (precision * 100.0))\n",
        "print(\"Recall: %.2f%%\" % (recall * 100.0))\n",
        "print(\"F1-score: %.2f\" % (f1score))"
      ],
      "execution_count": null,
      "outputs": []
    },
    {
      "cell_type": "code",
      "metadata": {
        "id": "hxrhxmd1DepT"
      },
      "source": [
        "#adding more layers\n",
        "model = Sequential()\n",
        "model.add(Dense(6, input_dim = len(XTRAIN[0, :]), activation = 'relu')) \n",
        "model.add(Dense(12, activation='relu'))\n",
        "model.add(Dense(24, activation='relu'))\n",
        "model.add(Dense(48, activation='relu'))\n",
        "model.add(Dense(96, activation='relu'))\n",
        "# 1 neuron in the last layer\n",
        "model.add(Dense(1, activation = 'sigmoid'))\n",
        "model.summary()\n",
        "model.compile(loss='binary_crossentropy', optimizer='rmsprop', metrics=['accuracy'])\n",
        "# Learn the model from training set\n",
        "model.fit(XTRAIN, YTRAIN)\n",
        "# Evaluate on the training set (should deliver high accuracy)\n",
        "p_training = model.predict(XTRAIN)\n",
        "accuracyt = model.evaluate(XTRAIN, YTRAIN)\n",
        "#Evaluate on the validation set\n",
        "p_valid = model.predict(XVALID)\n",
        "accuracyv = model.evaluate(XVALID, YVALID)\n",
        "print(accuracyv)\n",
        "print(accuracyt)\n",
        "\n",
        "# Do the training (specify the validation set as well)\n",
        "history = model.fit(XTRAIN, YTRAIN, validation_data = (XVALID, YVALID), verbose = 1, epochs = 256)\n",
        "# Plot the learning curves (loss/accuracy/MAE)\n",
        "plt.plot(history.history['accuracy']) # replace with accuracy/MAE\n",
        "plt.plot(history.history['val_accuracy']) # replace with val_accuracy, etc.\n",
        "plt.ylabel('Accuracy')\n",
        "plt.xlabel('epoch')\n",
        "plt.legend(['training data', 'validation data'], loc='lower right')\n",
        "plt.title(\"more layers\")\n",
        "plt.show()\n",
        "\n",
        "print(\"Training\")\n",
        "from sklearn.metrics import accuracy_score, precision_score, recall_score, f1_score\n",
        "accuracy = accuracy_score(YTRAIN, p_training.round())\n",
        "precision = precision_score(YTRAIN, p_training.round())\n",
        "recall = recall_score(YTRAIN, p_training.round())\n",
        "f1score = f1_score(YTRAIN, p_training.round())\n",
        "print(\"Accuracy: %.2f%%\" % (accuracy * 100.0))\n",
        "print(\"Precision: %.2f%%\" % (precision * 100.0))\n",
        "print(\"Recall: %.2f%%\" % (recall * 100.0))\n",
        "print(\"F1-score: %.2f\" % (f1score))\n",
        "\n",
        "from sklearn.metrics import accuracy_score, precision_score, recall_score, f1_score\n",
        "accuracy = accuracy_score(YVALID, p_valid.round())\n",
        "precision = precision_score(YVALID, p_valid.round())\n",
        "recall = recall_score(YVALID, p_valid.round())\n",
        "f1score = f1_score(YVALID, p_valid.round())\n",
        "print(\"Validation\")\n",
        "print(\"Accuracy: %.2f%%\" % (accuracy * 100.0))\n",
        "print(\"Precision: %.2f%%\" % (precision * 100.0))\n",
        "print(\"Recall: %.2f%%\" % (recall * 100.0))\n",
        "print(\"F1-score: %.2f\" % (f1score))"
      ],
      "execution_count": null,
      "outputs": []
    },
    {
      "cell_type": "code",
      "metadata": {
        "id": "rYpnyO4ZhAlR"
      },
      "source": [
        "#adding more layers\n",
        "model = Sequential()\n",
        "model.add(Dense(6, input_dim = len(XTRAIN[0, :]), activation = 'relu')) \n",
        "model.add(Dense(12, activation='relu'))\n",
        "model.add(Dense(24, activation='relu'))\n",
        "model.add(Dense(48, activation='relu'))\n",
        "model.add(Dense(96, activation='relu'))\n",
        "model.add(Dense(192, activation='relu'))\n",
        "# 1 neuron in the last layer\n",
        "model.add(Dense(1, activation = 'sigmoid'))\n",
        "model.summary()\n",
        "model.compile(loss='binary_crossentropy', optimizer='rmsprop', metrics=['accuracy'])\n",
        "# Learn the model from training set\n",
        "model.fit(XTRAIN, YTRAIN)\n",
        "# Evaluate on the training set (should deliver high accuracy)\n",
        "p_training = model.predict(XTRAIN)\n",
        "accuracyt = model.evaluate(XTRAIN, YTRAIN)\n",
        "#Evaluate on the validation set\n",
        "p_valid = model.predict(XVALID)\n",
        "accuracyv = model.evaluate(XVALID, YVALID)\n",
        "print(accuracyv)\n",
        "print(accuracyt)\n",
        "\n",
        "# Do the training (specify the validation set as well)\n",
        "history = model.fit(XTRAIN, YTRAIN, validation_data = (XVALID, YVALID), verbose = 1, epochs = 256)\n",
        "# Plot the learning curves (loss/accuracy/MAE)\n",
        "plt.plot(history.history['accuracy']) # replace with accuracy/MAE\n",
        "plt.plot(history.history['val_accuracy']) # replace with val_accuracy, etc.\n",
        "plt.ylabel('Accuracy')\n",
        "plt.xlabel('epoch')\n",
        "plt.legend(['training data', 'validation data'], loc='lower right')\n",
        "plt.title(\"more layers\")\n",
        "plt.show()\n",
        "\n",
        "print(\"Training\")\n",
        "from sklearn.metrics import accuracy_score, precision_score, recall_score, f1_score\n",
        "accuracy = accuracy_score(YTRAIN, p_training.round())\n",
        "precision = precision_score(YTRAIN, p_training.round())\n",
        "recall = recall_score(YTRAIN, p_training.round())\n",
        "f1score = f1_score(YTRAIN, p_training.round())\n",
        "print(\"Accuracy: %.2f%%\" % (accuracy * 100.0))\n",
        "print(\"Precision: %.2f%%\" % (precision * 100.0))\n",
        "print(\"Recall: %.2f%%\" % (recall * 100.0))\n",
        "print(\"F1-score: %.2f\" % (f1score))\n",
        "\n",
        "from sklearn.metrics import accuracy_score, precision_score, recall_score, f1_score\n",
        "accuracy = accuracy_score(YVALID, p_valid.round())\n",
        "precision = precision_score(YVALID, p_valid.round())\n",
        "recall = recall_score(YVALID, p_valid.round())\n",
        "f1score = f1_score(YVALID, p_valid.round())\n",
        "print(\"Validation\")\n",
        "print(\"Accuracy: %.2f%%\" % (accuracy * 100.0))\n",
        "print(\"Precision: %.2f%%\" % (precision * 100.0))\n",
        "print(\"Recall: %.2f%%\" % (recall * 100.0))\n",
        "print(\"F1-score: %.2f\" % (f1score))"
      ],
      "execution_count": null,
      "outputs": []
    },
    {
      "cell_type": "code",
      "metadata": {
        "id": "oo7KO_KThKWg"
      },
      "source": [
        "#adding more layers\n",
        "model = Sequential()\n",
        "model.add(Dense(6, input_dim = len(XTRAIN[0, :]), activation = 'relu')) \n",
        "model.add(Dense(12, activation='relu'))\n",
        "model.add(Dense(24, activation='relu'))\n",
        "model.add(Dense(48, activation='relu'))\n",
        "model.add(Dense(96, activation='relu'))\n",
        "model.add(Dense(192, activation='relu'))\n",
        "model.add(Dense(384, activation='relu'))\n",
        "# 1 neuron in the last layer\n",
        "model.add(Dense(1, activation = 'sigmoid'))\n",
        "model.summary()\n",
        "model.compile(loss='binary_crossentropy', optimizer='rmsprop', metrics=['accuracy'])\n",
        "# Learn the model from training set\n",
        "model.fit(XTRAIN, YTRAIN)\n",
        "# Evaluate on the training set (should deliver high accuracy)\n",
        "p_training = model.predict(XTRAIN)\n",
        "accuracyt = model.evaluate(XTRAIN, YTRAIN)\n",
        "#Evaluate on the validation set\n",
        "p_valid = model.predict(XVALID)\n",
        "accuracyv = model.evaluate(XVALID, YVALID)\n",
        "print(accuracyv)\n",
        "print(accuracyt)\n",
        "\n",
        "# Do the training (specify the validation set as well)\n",
        "history = model.fit(XTRAIN, YTRAIN, validation_data = (XVALID, YVALID), verbose = 1, epochs = 256)\n",
        "# Plot the learning curves (loss/accuracy/MAE)\n",
        "plt.plot(history.history['accuracy']) # replace with accuracy/MAE\n",
        "plt.plot(history.history['val_accuracy']) # replace with val_accuracy, etc.\n",
        "plt.ylabel('Accuracy')\n",
        "plt.xlabel('epoch')\n",
        "plt.legend(['training data', 'validation data'], loc='lower right')\n",
        "plt.title(\"more layers\")\n",
        "plt.show()\n",
        "\n",
        "print(\"Training\")\n",
        "from sklearn.metrics import accuracy_score, precision_score, recall_score, f1_score\n",
        "accuracy = accuracy_score(YTRAIN, p_training.round())\n",
        "precision = precision_score(YTRAIN, p_training.round())\n",
        "recall = recall_score(YTRAIN, p_training.round())\n",
        "f1score = f1_score(YTRAIN, p_training.round())\n",
        "print(\"Accuracy: %.2f%%\" % (accuracy * 100.0))\n",
        "print(\"Precision: %.2f%%\" % (precision * 100.0))\n",
        "print(\"Recall: %.2f%%\" % (recall * 100.0))\n",
        "print(\"F1-score: %.2f\" % (f1score))\n",
        "\n",
        "from sklearn.metrics import accuracy_score, precision_score, recall_score, f1_score\n",
        "accuracy = accuracy_score(YVALID, p_valid.round())\n",
        "precision = precision_score(YVALID, p_valid.round())\n",
        "recall = recall_score(YVALID, p_valid.round())\n",
        "f1score = f1_score(YVALID, p_valid.round())\n",
        "print(\"Validation\")\n",
        "print(\"Accuracy: %.2f%%\" % (accuracy * 100.0))\n",
        "print(\"Precision: %.2f%%\" % (precision * 100.0))\n",
        "print(\"Recall: %.2f%%\" % (recall * 100.0))\n",
        "print(\"F1-score: %.2f\" % (f1score))"
      ],
      "execution_count": null,
      "outputs": []
    },
    {
      "cell_type": "code",
      "metadata": {
        "id": "fxUsCdg4iM2a"
      },
      "source": [
        "#adding more layers\n",
        "model = Sequential()\n",
        "model.add(Dense(6, input_dim = len(XTRAIN[0, :]), activation = 'relu')) \n",
        "model.add(Dense(12, activation='relu'))\n",
        "model.add(Dense(24, activation='relu'))\n",
        "model.add(Dense(48, activation='relu'))\n",
        "model.add(Dense(96, activation='relu'))\n",
        "model.add(Dense(192, activation='relu'))\n",
        "model.add(Dense(384, activation='relu'))\n",
        "model.add(Dense(768, activation='relu'))\n",
        "# 1 neuron in the last layer\n",
        "model.add(Dense(1, activation = 'sigmoid'))\n",
        "model.summary()\n",
        "model.compile(loss='binary_crossentropy', optimizer='rmsprop', metrics=['accuracy'])\n",
        "# Learn the model from training set\n",
        "model.fit(XTRAIN, YTRAIN)\n",
        "# Evaluate on the training set (should deliver high accuracy)\n",
        "p_training = model.predict(XTRAIN)\n",
        "accuracyt = model.evaluate(XTRAIN, YTRAIN)\n",
        "#Evaluate on the validation set\n",
        "p_valid = model.predict(XVALID)\n",
        "accuracyv = model.evaluate(XVALID, YVALID)\n",
        "print(accuracyv)\n",
        "print(accuracyt)\n",
        "\n",
        "# Do the training (specify the validation set as well)\n",
        "history = model.fit(XTRAIN, YTRAIN, validation_data = (XVALID, YVALID), verbose = 1, epochs = 256)\n",
        "# Plot the learning curves (loss/accuracy/MAE)\n",
        "plt.plot(history.history['accuracy']) # replace with accuracy/MAE\n",
        "plt.plot(history.history['val_accuracy']) # replace with val_accuracy, etc.\n",
        "plt.ylabel('Accuracy')\n",
        "plt.xlabel('epoch')\n",
        "plt.legend(['training data', 'validation data'], loc='lower right')\n",
        "plt.title(\"more layers\")\n",
        "plt.show()\n",
        "\n",
        "print(\"Training\")\n",
        "from sklearn.metrics import accuracy_score, precision_score, recall_score, f1_score\n",
        "accuracy = accuracy_score(YTRAIN, p_training.round())\n",
        "precision = precision_score(YTRAIN, p_training.round())\n",
        "recall = recall_score(YTRAIN, p_training.round())\n",
        "f1score = f1_score(YTRAIN, p_training.round())\n",
        "print(\"Accuracy: %.2f%%\" % (accuracy * 100.0))\n",
        "print(\"Precision: %.2f%%\" % (precision * 100.0))\n",
        "print(\"Recall: %.2f%%\" % (recall * 100.0))\n",
        "print(\"F1-score: %.2f\" % (f1score))\n",
        "\n",
        "from sklearn.metrics import accuracy_score, precision_score, recall_score, f1_score\n",
        "accuracy = accuracy_score(YVALID, p_valid.round())\n",
        "precision = precision_score(YVALID, p_valid.round())\n",
        "recall = recall_score(YVALID, p_valid.round())\n",
        "f1score = f1_score(YVALID, p_valid.round())\n",
        "print(\"Validation\")\n",
        "print(\"Accuracy: %.2f%%\" % (accuracy * 100.0))\n",
        "print(\"Precision: %.2f%%\" % (precision * 100.0))\n",
        "print(\"Recall: %.2f%%\" % (recall * 100.0))\n",
        "print(\"F1-score: %.2f\" % (f1score))"
      ],
      "execution_count": null,
      "outputs": []
    },
    {
      "cell_type": "code",
      "metadata": {
        "id": "01042RN76D0L"
      },
      "source": [
        "#overfitting\n",
        "model = Sequential()\n",
        "model.add(Dense(60, input_dim = len(XTRAIN[0, :]), activation = 'relu')) \n",
        "model.add(Dense(120, activation='relu'))\n",
        "model.add(Dense(240, activation='relu'))\n",
        "model.add(Dense(480, activation='relu'))\n",
        "model.add(Dense(960, activation='relu'))\n",
        "# 1 neuron in the last layer\n",
        "model.add(Dense(1, activation = 'sigmoid'))\n",
        "model.summary()\n",
        "model.compile(loss='binary_crossentropy', optimizer='rmsprop', metrics=['accuracy'])\n",
        "# Learn the model from training set\n",
        "model.fit(XTRAIN, YTRAIN)\n",
        "# Evaluate on the training set (should deliver high accuracy)\n",
        "p_training = model.predict(XTRAIN)\n",
        "accuracyt = model.evaluate(XTRAIN, YTRAIN)\n",
        "#Evaluate on the validation set\n",
        "p_valid = model.predict(XVALID)\n",
        "accuracyv = model.evaluate(XVALID, YVALID)\n",
        "print(accuracyv)\n",
        "print(accuracyt)\n",
        "\n",
        "# Do the training (specify the validation set as well)\n",
        "history = model.fit(XTRAIN, YTRAIN, validation_data = (XVALID, YVALID), verbose = 1, epochs = 256)\n",
        "# Plot the learning curves (loss/accuracy/MAE)\n",
        "plt.plot(history.history['accuracy']) # replace with accuracy/MAE\n",
        "plt.plot(history.history['val_accuracy']) # replace with val_accuracy, etc.\n",
        "plt.ylabel('Accuracy')\n",
        "plt.xlabel('epoch')\n",
        "plt.legend(['training data', 'validation data'], loc='lower right')\n",
        "plt.title(\"overfitting\")\n",
        "plt.show()\n",
        "\n",
        "print(\"Training\")\n",
        "from sklearn.metrics import accuracy_score, precision_score, recall_score, f1_score\n",
        "accuracy = accuracy_score(YTRAIN, p_training.round())\n",
        "precision = precision_score(YTRAIN, p_training.round())\n",
        "recall = recall_score(YTRAIN, p_training.round())\n",
        "f1score = f1_score(YTRAIN, p_training.round())\n",
        "print(\"Accuracy: %.2f%%\" % (accuracy * 100.0))\n",
        "print(\"Precision: %.2f%%\" % (precision * 100.0))\n",
        "print(\"Recall: %.2f%%\" % (recall * 100.0))\n",
        "print(\"F1-score: %.2f\" % (f1score))\n",
        "\n",
        "from sklearn.metrics import accuracy_score, precision_score, recall_score, f1_score\n",
        "accuracy = accuracy_score(YVALID, p_valid.round())\n",
        "precision = precision_score(YVALID, p_valid.round())\n",
        "recall = recall_score(YVALID, p_valid.round())\n",
        "f1score = f1_score(YVALID, p_valid.round())\n",
        "print(\"Validation\")\n",
        "print(\"Accuracy: %.2f%%\" % (accuracy * 100.0))\n",
        "print(\"Precision: %.2f%%\" % (precision * 100.0))\n",
        "print(\"Recall: %.2f%%\" % (recall * 100.0))\n",
        "print(\"F1-score: %.2f\" % (f1score))"
      ],
      "execution_count": null,
      "outputs": []
    },
    {
      "cell_type": "code",
      "metadata": {
        "id": "Wy0iluffdoSv"
      },
      "source": [
        "#linear in all layers\n",
        "model = Sequential()\n",
        "model.add(Dense(6, input_dim = len(XTRAIN[0, :]), activation = 'linear')) \n",
        "model.add(Dense(12, activation='linear'))\n",
        "model.add(Dense(24, activation='linear'))\n",
        "model.add(Dense(48, activation='linear'))\n",
        "model.add(Dense(96, activation='linear'))\n",
        "# 1 neuron in the last layer\n",
        "model.add(Dense(1, activation = 'linear'))\n",
        "model.summary()\n",
        "model.compile(loss='mse', optimizer='rmsprop', metrics=['mae'])\n",
        "# Learn the model from training set\n",
        "model.fit(XTRAIN, YTRAIN)\n",
        "# Evaluate on the training set (should deliver high accuracy)\n",
        "p_training = model.predict(XTRAIN)\n",
        "accuracyt = model.evaluate(XTRAIN, YTRAIN)\n",
        "#Evaluate on the validation set\n",
        "p_valid = model.predict(XVALID)\n",
        "accuracyv = model.evaluate(XVALID, YVALID)\n",
        "print(accuracyv)\n",
        "print(accuracyt)\n",
        "\n",
        "# Do the training (specify the validation set as well)\n",
        "history = model.fit(XTRAIN, YTRAIN, validation_data = (XVALID, YVALID), verbose = 1, epochs  = 256)\n",
        "# Check what's in the history\n",
        "print(history.params)\n",
        "\n",
        "# Plot the learning curves (loss/MAE)\n",
        "plt.plot(history.history['mae']) # replace with accuracy/MAE\n",
        "plt.plot(history.history['val_mae']) # replace with val_accuracy, etc.\n",
        "plt.ylabel('mae')\n",
        "plt.xlabel('epoch')\n",
        "plt.legend(['training data', 'validation data'], loc='upper right')\n",
        "plt.title(\"linear\")\n",
        "plt.show()\n",
        "\n",
        "print(\"Training\")\n",
        "from sklearn.metrics import accuracy_score, precision_score, recall_score, f1_score\n",
        "accuracy = accuracy_score(YTRAIN, p_training.round())\n",
        "precision = precision_score(YTRAIN, p_training.round(), average='weighted')\n",
        "recall = recall_score(YTRAIN, p_training.round(), average='weighted')\n",
        "f1score = f1_score(YTRAIN, p_training.round(), average='weighted')\n",
        "print(\"Accuracy: %.2f%%\" % (accuracy * 100.0))\n",
        "print(\"Precision: %.2f%%\" % (precision * 100.0))\n",
        "print(\"Recall: %.2f%%\" % (recall * 100.0))\n",
        "print(\"F1-score: %.2f\" % (f1score))\n",
        "\n",
        "from sklearn.metrics import accuracy_score, precision_score, recall_score, f1_score\n",
        "accuracy = accuracy_score(YVALID, p_valid.round())\n",
        "precision = precision_score(YVALID, p_valid.round(), average='weighted')\n",
        "recall = recall_score(YVALID, p_valid.round(), average='weighted')\n",
        "f1score = f1_score(YVALID, p_valid.round(), average='weighted')\n",
        "print(\"Validation\")\n",
        "print(\"Accuracy: %.2f%%\" % (accuracy * 100.0))\n",
        "print(\"Precision: %.2f%%\" % (precision * 100.0))\n",
        "print(\"Recall: %.2f%%\" % (recall * 100.0))\n",
        "print(\"F1-score: %.2f\" % (f1score))"
      ],
      "execution_count": null,
      "outputs": []
    },
    {
      "cell_type": "code",
      "metadata": {
        "id": "wMs2Zu41f2TG"
      },
      "source": [
        "#linear in last layer\n",
        "model = Sequential()\n",
        "model.add(Dense(6, input_dim = len(XTRAIN[0, :]), activation = 'sigmoid')) \n",
        "model.add(Dense(12, activation='sigmoid'))\n",
        "model.add(Dense(24, activation='sigmoid'))\n",
        "model.add(Dense(48, activation='sigmoid'))\n",
        "model.add(Dense(96, activation='sigmoid'))\n",
        "# 1 neuron in the last layer\n",
        "model.add(Dense(1, activation = 'linear'))\n",
        "model.summary()\n",
        "model.compile(loss='mse', optimizer='rmsprop', metrics=['mae'])\n",
        "# Learn the model from training set\n",
        "model.fit(XTRAIN, YTRAIN)\n",
        "# Evaluate on the training set (should deliver high accuracy)\n",
        "p_training = model.predict(XTRAIN)\n",
        "accuracyt = model.evaluate(XTRAIN, YTRAIN)\n",
        "#Evaluate on the validation set\n",
        "p_valid = model.predict(XVALID)\n",
        "accuracyv = model.evaluate(XVALID, YVALID)\n",
        "print(accuracyv)\n",
        "print(accuracyt)\n",
        "\n",
        "# Do the training (specify the validation set as well)\n",
        "history = model.fit(XTRAIN, YTRAIN, validation_data = (XVALID, YVALID), verbose = 1, epochs  = 256)\n",
        "# Check what's in the history\n",
        "print(history.params)\n",
        "\n",
        "# Plot the learning curves (loss/MAE)\n",
        "plt.plot(history.history['mae']) # replace with accuracy/MAE\n",
        "plt.plot(history.history['val_mae']) # replace with val_accuracy, etc.\n",
        "plt.ylabel('mae')\n",
        "plt.xlabel('epoch')\n",
        "plt.legend(['training data', 'validation data'], loc='upper right')\n",
        "plt.title(\"linear in last layer\")\n",
        "plt.show()\n",
        "\n",
        "print(\"Training\")\n",
        "from sklearn.metrics import accuracy_score, precision_score, recall_score, f1_score\n",
        "accuracy = accuracy_score(YTRAIN, p_training.round())\n",
        "precision = precision_score(YTRAIN, p_training.round(), average='weighted')\n",
        "recall = recall_score(YTRAIN, p_training.round(), average='weighted')\n",
        "f1score = f1_score(YTRAIN, p_training.round(), average='weighted')\n",
        "print(\"Accuracy: %.2f%%\" % (accuracy * 100.0))\n",
        "print(\"Precision: %.2f%%\" % (precision * 100.0))\n",
        "print(\"Recall: %.2f%%\" % (recall * 100.0))\n",
        "print(\"F1-score: %.2f\" % (f1score))\n",
        "\n",
        "from sklearn.metrics import accuracy_score, precision_score, recall_score, f1_score\n",
        "accuracy = accuracy_score(YVALID, p_valid.round())\n",
        "precision = precision_score(YVALID, p_valid.round(), average='weighted')\n",
        "recall = recall_score(YVALID, p_valid.round(), average='weighted')\n",
        "f1score = f1_score(YVALID, p_valid.round(), average='weighted')\n",
        "print(\"Validation\")\n",
        "print(\"Accuracy: %.2f%%\" % (accuracy * 100.0))\n",
        "print(\"Precision: %.2f%%\" % (precision * 100.0))\n",
        "print(\"Recall: %.2f%%\" % (recall * 100.0))\n",
        "print(\"F1-score: %.2f\" % (f1score))"
      ],
      "execution_count": null,
      "outputs": []
    },
    {
      "cell_type": "code",
      "metadata": {
        "id": "SBZux84ayA74"
      },
      "source": [
        "model = Sequential()\n",
        "model.add(Dense(6, input_dim = len(XTRAIN[0, :]), activation = 'sigmoid')) \n",
        "model.add(Dense(12, activation='sigmoid'))\n",
        "model.add(Dense(24, activation='sigmoid'))\n",
        "model.add(Dense(48, activation='sigmoid'))\n",
        "model.add(Dense(96, activation='sigmoid'))\n",
        "model.add(Dense(1, activation='sigmoid'))\n",
        "model.summary()\n",
        "model.compile(loss='binary_crossentropy', optimizer='rmsprop', metrics=['accuracy'])\n",
        "# Learn the model from training set\n",
        "model.fit(XTRAIN, YTRAIN)\n",
        "# Evaluate on the training set (should deliver high accuracy)\n",
        "p_training = model.predict(XTRAIN)\n",
        "accuracyt = model.evaluate(XTRAIN, YTRAIN)\n",
        "#Evaluate on the validation set\n",
        "p_valid = model.predict(XVALID)\n",
        "accuracyv = model.evaluate(XVALID, YVALID)\n",
        "print(accuracyv)\n",
        "print(accuracyt)\n",
        "# Do the training (specify the validation set as well)\n",
        "history = model.fit(XTRAIN, YTRAIN, validation_data = (XVALID, YVALID), verbose = 1, epochs  = 256)\n",
        "# Check what's in the history\n",
        "print(history.params)\n",
        "\n",
        "# Plot the learning curves (loss/accuracy/MAE)\n",
        "plt.plot(history.history['accuracy']) # replace with accuracy/MAE\n",
        "plt.plot(history.history['val_accuracy']) # replace with val_accuracy, etc.\n",
        "plt.ylabel('Accuracy')\n",
        "plt.xlabel('epoch')\n",
        "plt.legend(['training data', 'validation data'], loc='lower right')\n",
        "plt.title(\"sigmoid layers\")\n",
        "plt.show()\n",
        "print(\"Training\")\n",
        "from sklearn.metrics import accuracy_score, precision_score, recall_score, f1_score\n",
        "accuracy = accuracy_score(YTRAIN, p_training.round())\n",
        "precision = precision_score(YTRAIN, p_training.round())\n",
        "recall = recall_score(YTRAIN, p_training.round())\n",
        "f1score = f1_score(YTRAIN, p_training.round())\n",
        "print(\"Accuracy: %.2f%%\" % (accuracy * 100.0))\n",
        "print(\"Precision: %.2f%%\" % (precision * 100.0))\n",
        "print(\"Recall: %.2f%%\" % (recall * 100.0))\n",
        "print(\"F1-score: %.2f\" % (f1score))\n",
        "\n",
        "from sklearn.metrics import accuracy_score, precision_score, recall_score, f1_score\n",
        "accuracy = accuracy_score(YVALID, p_valid.round())\n",
        "precision = precision_score(YVALID, p_valid.round())\n",
        "recall = recall_score(YVALID, p_valid.round())\n",
        "f1score = f1_score(YVALID, p_valid.round())\n",
        "print(\"Validation\")\n",
        "print(\"Accuracy: %.2f%%\" % (accuracy * 100.0))\n",
        "print(\"Precision: %.2f%%\" % (precision * 100.0))\n",
        "print(\"Recall: %.2f%%\" % (recall * 100.0))\n",
        "print(\"F1-score: %.2f\" % (f1score))"
      ],
      "execution_count": null,
      "outputs": []
    },
    {
      "cell_type": "code",
      "metadata": {
        "id": "olrCf3lVpv4I"
      },
      "source": [
        "#sigmoid last layer\n",
        "model = Sequential()\n",
        "model.add(Dense(6, input_dim = len(XTRAIN[0, :]), activation = 'linear')) \n",
        "model.add(Dense(12, activation='linear'))\n",
        "model.add(Dense(24, activation='linear'))\n",
        "model.add(Dense(48, activation='linear'))\n",
        "model.add(Dense(96, activation='linear'))\n",
        "model.add(Dense(1, activation='sigmoid'))\n",
        "model.summary()\n",
        "model.compile(loss='binary_crossentropy', optimizer='rmsprop', metrics=['accuracy'])\n",
        "# Learn the model from training set\n",
        "model.fit(XTRAIN, YTRAIN)\n",
        "# Evaluate on the training set (should deliver high accuracy)\n",
        "p_training = model.predict(XTRAIN)\n",
        "accuracyt = model.evaluate(XTRAIN, YTRAIN)\n",
        "#Evaluate on the validation set\n",
        "p_valid = model.predict(XVALID)\n",
        "accuracyv = model.evaluate(XVALID, YVALID)\n",
        "print(accuracyv)\n",
        "print(accuracyt)\n",
        "# Do the training (specify the validation set as well)\n",
        "history = model.fit(XTRAIN, YTRAIN, validation_data = (XVALID, YVALID), verbose = 1, epochs  = 256)\n",
        "# Check what's in the history\n",
        "print(history.params)\n",
        "\n",
        "# Plot the learning curves (loss/accuracy/MAE)\n",
        "plt.plot(history.history['accuracy']) # replace with accuracy/MAE\n",
        "plt.plot(history.history['val_accuracy']) # replace with val_accuracy, etc.\n",
        "plt.ylabel('Accuracy')\n",
        "plt.xlabel('epoch')\n",
        "plt.legend(['training data', 'validation data'], loc='lower right')\n",
        "plt.title(\"sigmoid last layer\")\n",
        "plt.show()\n",
        "print(\"Training\")\n",
        "from sklearn.metrics import accuracy_score, precision_score, recall_score, f1_score\n",
        "accuracy = accuracy_score(YTRAIN, p_training.round())\n",
        "precision = precision_score(YTRAIN, p_training.round())\n",
        "recall = recall_score(YTRAIN, p_training.round())\n",
        "f1score = f1_score(YTRAIN, p_training.round())\n",
        "print(\"Accuracy: %.2f%%\" % (accuracy * 100.0))\n",
        "print(\"Precision: %.2f%%\" % (precision * 100.0))\n",
        "print(\"Recall: %.2f%%\" % (recall * 100.0))\n",
        "print(\"F1-score: %.2f\" % (f1score))\n",
        "\n",
        "from sklearn.metrics import accuracy_score, precision_score, recall_score, f1_score\n",
        "accuracy = accuracy_score(YVALID, p_valid.round())\n",
        "precision = precision_score(YVALID, p_valid.round())\n",
        "recall = recall_score(YVALID, p_valid.round())\n",
        "f1score = f1_score(YVALID, p_valid.round())\n",
        "print(\"Validation\")\n",
        "print(\"Accuracy: %.2f%%\" % (accuracy * 100.0))\n",
        "print(\"Precision: %.2f%%\" % (precision * 100.0))\n",
        "print(\"Recall: %.2f%%\" % (recall * 100.0))\n",
        "print(\"F1-score: %.2f\" % (f1score))"
      ],
      "execution_count": null,
      "outputs": []
    },
    {
      "cell_type": "code",
      "metadata": {
        "id": "RAJCc8ib5i4t"
      },
      "source": [
        "model = Sequential()\n",
        "# 4 neurons in the first layer\n",
        "model.add(Dense(9999, input_dim = len(XTRAIN[0, :]), activation = 'relu')) \n",
        "model.add(Dense(9999, activation='relu'))\n",
        "model.summary()\n",
        "model.compile(loss='binary_crossentropy', optimizer='rmsprop', metrics=['accuracy'])\n",
        "# Learn the model from training set\n",
        "model.fit(XTRAIN, YTRAIN)\n",
        "# Evaluate on the training set (should deliver high accuracy)\n",
        "p_training = model.predict(XTRAIN)\n",
        "accuracyt = model.evaluate(XTRAIN, YTRAIN)\n",
        "#Evaluate on the validation set\n",
        "p_valid = model.predict(XVALID)\n",
        "accuracyv = model.evaluate(XVALID, YVALID)\n",
        "print(accuracyv)\n",
        "print(accuracyt)\n",
        "# Do the training (specify the validation set as well)\n",
        "history = model.fit(XTRAIN, YTRAIN, validation_data = (XVALID, YVALID), verbose = 1, epochs  = 256)\n",
        "# Check what's in the history\n",
        "print(history.params)\n",
        "\n",
        "# Plot the learning curves (loss/accuracy/MAE)\n",
        "plt.plot(history.history['accuracy']) # replace with accuracy/MAE\n",
        "plt.plot(history.history['val_accuracy']) # replace with val_accuracy, etc.\n",
        "plt.ylabel('Accuracy')\n",
        "plt.xlabel('epoch')\n",
        "plt.legend(['training data', 'validation data'], loc='lower right')\n",
        "plt.title(\"denselayers\")\n",
        "plt.show()\n",
        "\n",
        "from sklearn.metrics import accuracy_score, precision_score, recall_score, f1_score\n",
        "accuracy = accuracy_score(YTRAIN, p_training.round())\n",
        "precision = precision_score(YTRAIN, p_training.round())\n",
        "recall = recall_score(YTRAIN, p_training.round())\n",
        "f1score = f1_score(YTRAIN, p_training.round())\n",
        "print(\"Accuracy: %.2f%%\" % (accuracy * 100.0))\n",
        "print(\"Precision: %.2f%%\" % (precision * 100.0))\n",
        "print(\"Recall: %.2f%%\" % (recall * 100.0))\n",
        "print(\"F1-score: %.2f\" % (f1score))"
      ],
      "execution_count": null,
      "outputs": []
    },
    {
      "cell_type": "code",
      "metadata": {
        "id": "pI2ipeM3Tmvz"
      },
      "source": [
        "from tensorflow.keras.callbacks import EarlyStopping, ModelCheckpoint\n",
        "# File name must be in quotes\n",
        "callback_a = ModelCheckpoint(filepath = 'carData.csv', monitor='val_loss', save_best_only = True, save_weights_only = True, verbose = 1)\n",
        "# The patience value can be 10, 20, 100, etc. depending on when your model starts to overfit\n",
        "callback_b = EarlyStopping(monitor='val_loss', mode='min', patience=10, verbose=1)\n",
        "history = model.fit(XTRAIN, YTRAIN, validation_data=(XVALID, YVALID), epochs=256, batch_size=8, callbacks = [callback_a, callback_b])\n",
        "plt.plot(history.history['accuracy']) # replace with accuracy/MAE\n",
        "plt.plot(history.history['val_accuracy']) # replace with val_accuracy, etc.\n",
        "plt.ylabel('Accuracy')\n",
        "plt.xlabel('epoch')\n",
        "plt.legend(['training data', 'validation data'], loc='lower right')\n",
        "plt.title(\"10 patience\")\n",
        "plt.show()"
      ],
      "execution_count": null,
      "outputs": []
    },
    {
      "cell_type": "code",
      "metadata": {
        "id": "3_YbTTDPEptH"
      },
      "source": [
        "callback_a = ModelCheckpoint(filepath = 'carData.csv', monitor='val_loss', save_best_only = True, save_weights_only = True, verbose = 1)\n",
        "# The patience value can be 10, 20, 100, etc. depending on when your model starts to overfit\n",
        "callback_b = EarlyStopping(monitor='val_loss', mode='min', patience=20, verbose=1)\n",
        "history = model.fit(XTRAIN, YTRAIN, validation_data=(XVALID, YVALID), epochs=256, batch_size=8, callbacks = [callback_a, callback_b])\n",
        "plt.plot(history.history['accuracy']) # replace with accuracy/MAE\n",
        "plt.plot(history.history['val_accuracy']) # replace with val_accuracy, etc.\n",
        "plt.ylabel('Accuracy')\n",
        "plt.xlabel('epoch')\n",
        "plt.legend(['training data', 'validation data'], loc='lower right')\n",
        "plt.title(\"20 patience\")\n",
        "plt.show()"
      ],
      "execution_count": null,
      "outputs": []
    },
    {
      "cell_type": "code",
      "metadata": {
        "id": "v3dyt6GLjxK4"
      },
      "source": [
        "callback_a = ModelCheckpoint(filepath = 'carData.csv', monitor='val_loss', save_best_only = True, save_weights_only = True, verbose = 1)\n",
        "# The patience value can be 10, 20, 100, etc. depending on when your model starts to overfit\n",
        "callback_b = EarlyStopping(monitor='val_loss', mode='min', patience=100, verbose=1)\n",
        "history = model.fit(XTRAIN, YTRAIN, validation_data=(XVALID, YVALID), epochs=256, batch_size=8, callbacks = [callback_a, callback_b])\n",
        "plt.plot(history.history['accuracy']) # replace with accuracy/MAE\n",
        "plt.plot(history.history['val_accuracy']) # replace with val_accuracy, etc.\n",
        "plt.ylabel('Accuracy')\n",
        "plt.xlabel('epoch')\n",
        "plt.legend(['training data', 'validation data'], loc='lower right')\n",
        "plt.title(\"100 patience\")\n",
        "plt.show()"
      ],
      "execution_count": null,
      "outputs": []
    },
    {
      "cell_type": "code",
      "metadata": {
        "id": "_QGcB561Bajc"
      },
      "source": [
        "dataset[dataset[:, -1] > 0, -1] = 1"
      ],
      "execution_count": null,
      "outputs": []
    },
    {
      "cell_type": "code",
      "metadata": {
        "id": "imKFfIGoBcaR"
      },
      "source": [
        "X = dataset[:, :-1]\n",
        "Y = dataset[:, -1]"
      ],
      "execution_count": null,
      "outputs": []
    },
    {
      "cell_type": "code",
      "metadata": {
        "colab": {
          "base_uri": "https://localhost:8080/"
        },
        "id": "8LQHosn1hDOl",
        "outputId": "e3bdeefb-7990-4907-ed2a-f4caa76f8679"
      },
      "source": [
        "print(X.shape, Y.shape)"
      ],
      "execution_count": null,
      "outputs": [
        {
          "output_type": "stream",
          "text": [
            "(1728, 6) (1728,)\n"
          ],
          "name": "stdout"
        }
      ]
    },
    {
      "cell_type": "code",
      "metadata": {
        "colab": {
          "base_uri": "https://localhost:8080/"
        },
        "id": "_kQL9fu5BiYX",
        "outputId": "b3bb4dd7-80be-4c61-827a-c5fd0f1e2d79"
      },
      "source": [
        "index_30percent = int(0.3 * len(dataset[:, 0]))\n",
        "print(index_30percent)\n",
        "# Split into training and validation, 30% validation set and 70% training \n",
        "XVALID = dataset[:index_30percent, :-1]\n",
        "YVALID = dataset[:index_30percent, -1]\n",
        "XTRAIN = dataset[index_30percent:, :-1]\n",
        "YTRAIN = dataset[index_30percent:, -1]"
      ],
      "execution_count": null,
      "outputs": [
        {
          "output_type": "stream",
          "text": [
            "518\n"
          ],
          "name": "stdout"
        }
      ]
    },
    {
      "cell_type": "code",
      "metadata": {
        "colab": {
          "base_uri": "https://localhost:8080/"
        },
        "id": "6BouP3lexbd7",
        "outputId": "df3a6b8a-181a-4934-c954-62efb51062dd"
      },
      "source": [
        "print(XVALID.shape)\n",
        "print(YVALID.shape)\n",
        "print(XTRAIN.shape)\n",
        "print(YTRAIN.shape)"
      ],
      "execution_count": null,
      "outputs": [
        {
          "output_type": "stream",
          "text": [
            "(518, 6)\n",
            "(518,)\n",
            "(1210, 6)\n",
            "(1210,)\n"
          ],
          "name": "stdout"
        }
      ]
    },
    {
      "cell_type": "code",
      "metadata": {
        "id": "3P-CdSUuVI9R"
      },
      "source": [
        "my_new_xt = XTRAIN[:, 0]\n",
        "my_new_xv = XVALID[:, 0]\n",
        "model = Sequential()\n",
        "model.add(Dense(1, input_dim = 1, activation='sigmoid'))\n",
        "model.compile(loss='binary_crossentropy', optimizer = 'rmsprop', metrics=['accuracy'])\n",
        "model.summary()\n",
        "# Learn the model from training set\n",
        "model.fit(my_new_xt, YTRAIN)\n",
        "# Evaluate on the training set (should deliver high accuracy)\n",
        "p_training = model.predict(my_new_xt)\n",
        "accuracyt = model.evaluate(my_new_xt, YTRAIN)\n",
        "#Evaluate on the validation set\n",
        "p_valid = model.predict(my_new_xv)\n",
        "accuracyv = model.evaluate(my_new_xv, YVALID)\n",
        "print(accuracyv)\n",
        "print(accuracyt)\n",
        "# Do the training (specify the validation set as well)\n",
        "history = model.fit(my_new_xt, YTRAIN, validation_data = (my_new_xv, YVALID), verbose = 1, epochs  = 256)\n",
        "prediction = model.predict(my_new_xt)\n",
        "# Check what's in the history\n",
        "print(history.params)\n",
        "from sklearn.metrics import accuracy_score, precision_score, recall_score, f1_score\n",
        "accuracy1 = accuracy_score(YTRAIN, prediction.round())\n",
        "precision = precision_score(YTRAIN, prediction.round())\n",
        "recall = recall_score(YTRAIN, prediction.round())\n",
        "f1score = f1_score(YTRAIN, prediction.round())\n",
        "print(\"Accuracy: %.2f%%\" % (accuracy1 * 100.0))\n",
        "print(\"Precision: %.2f%%\" % (precision * 100.0))\n",
        "print(\"Recall: %.2f%%\" % (recall * 100.0))\n",
        "print(\"F1-score: %.2f\" % (f1score))"
      ],
      "execution_count": null,
      "outputs": []
    },
    {
      "cell_type": "code",
      "metadata": {
        "id": "tIGzdAGxj1JA"
      },
      "source": [
        "my_new_xt = XTRAIN[:, 1]\n",
        "my_new_xv = XVALID[:, 1]\n",
        "model = Sequential()\n",
        "model.add(Dense(1, input_dim = 1, activation='sigmoid'))\n",
        "model.compile(loss='binary_crossentropy', optimizer = 'rmsprop', metrics=['accuracy'])\n",
        "model.summary()\n",
        "# Learn the model from training set\n",
        "model.fit(my_new_xt, YTRAIN)\n",
        "# Evaluate on the training set (should deliver high accuracy)\n",
        "p_training = model.predict(my_new_xt)\n",
        "accuracyt = model.evaluate(my_new_xt, YTRAIN)\n",
        "#Evaluate on the validation set\n",
        "p_valid = model.predict(my_new_xt)\n",
        "accuracyv = model.evaluate(my_new_xv, YVALID)\n",
        "print(accuracyv)\n",
        "print(accuracyt)\n",
        "# Do the training (specify the validation set as well)\n",
        "history = model.fit(my_new_xt, YTRAIN, validation_data = (my_new_xv, YVALID), verbose = 1, epochs  = 256)\n",
        "prediction = model.predict(my_new_xt)\n",
        "# Check what's in the history\n",
        "print(history.params)\n",
        "from sklearn.metrics import accuracy_score, precision_score, recall_score, f1_score\n",
        "accuracy2 = accuracy_score(YTRAIN, prediction.round())\n",
        "precision = precision_score(YTRAIN, prediction.round())\n",
        "recall = recall_score(YTRAIN, prediction.round())\n",
        "f1score = f1_score(YTRAIN, prediction.round())\n",
        "print(\"Accuracy: %.2f%%\" % (accuracy2 * 100.0))\n",
        "print(\"Precision: %.2f%%\" % (precision * 100.0))\n",
        "print(\"Recall: %.2f%%\" % (recall * 100.0))\n",
        "print(\"F1-score: %.2f\" % (f1score))"
      ],
      "execution_count": null,
      "outputs": []
    },
    {
      "cell_type": "code",
      "metadata": {
        "id": "Ri-EDswAkAW0"
      },
      "source": [
        "my_new_xt = XTRAIN[:, 2]\n",
        "my_new_xv = XVALID[:, 2]\n",
        "model = Sequential()\n",
        "model.add(Dense(1, input_dim = 1, activation='sigmoid'))\n",
        "model.compile(loss='binary_crossentropy', optimizer = 'rmsprop', metrics=['accuracy'])\n",
        "model.summary()\n",
        "# Learn the model from training set\n",
        "model.fit(my_new_xt, YTRAIN)\n",
        "# Evaluate on the training set (should deliver high accuracy)\n",
        "p_training = model.predict(my_new_xt)\n",
        "accuracyt = model.evaluate(my_new_xt, YTRAIN)\n",
        "#Evaluate on the validation set\n",
        "p_valid = model.predict(my_new_xt)\n",
        "accuracyv = model.evaluate(my_new_xv, YVALID)\n",
        "print(accuracyv)\n",
        "print(accuracyt)\n",
        "# Do the training (specify the validation set as well)\n",
        "history = model.fit(my_new_xt, YTRAIN, validation_data = (my_new_xv, YVALID), verbose = 1, epochs  = 256)\n",
        "prediction = model.predict(my_new_xt)\n",
        "# Check what's in the history\n",
        "print(history.params)\n",
        "from sklearn.metrics import accuracy_score, precision_score, recall_score, f1_score\n",
        "accuracy3 = accuracy_score(YTRAIN, prediction.round())\n",
        "precision = precision_score(YTRAIN, prediction.round())\n",
        "recall = recall_score(YTRAIN, prediction.round())\n",
        "f1score = f1_score(YTRAIN, prediction.round())\n",
        "print(\"Accuracy: %.2f%%\" % (accuracy3 * 100.0))\n",
        "print(\"Precision: %.2f%%\" % (precision * 100.0))\n",
        "print(\"Recall: %.2f%%\" % (recall * 100.0))\n",
        "print(\"F1-score: %.2f\" % (f1score))"
      ],
      "execution_count": null,
      "outputs": []
    },
    {
      "cell_type": "code",
      "metadata": {
        "id": "spTRHqoMkCOz"
      },
      "source": [
        "my_new_xt = XTRAIN[:, 3]\n",
        "my_new_xv = XVALID[:, 3]\n",
        "model = Sequential()\n",
        "model.add(Dense(1, input_dim = 1, activation='sigmoid'))\n",
        "model.compile(loss='binary_crossentropy', optimizer = 'rmsprop', metrics=['accuracy'])\n",
        "model.summary()\n",
        "# Learn the model from training set\n",
        "model.fit(my_new_xt, YTRAIN)\n",
        "# Evaluate on the training set (should deliver high accuracy)\n",
        "p_training = model.predict(my_new_xt)\n",
        "accuracyt = model.evaluate(my_new_xt, YTRAIN)\n",
        "#Evaluate on the validation set\n",
        "p_valid = model.predict(my_new_xt)\n",
        "accuracyv = model.evaluate(my_new_xv, YVALID)\n",
        "print(accuracyv)\n",
        "print(accuracyt)\n",
        "# Do the training (specify the validation set as well)\n",
        "history = model.fit(my_new_xt, YTRAIN, validation_data = (my_new_xv, YVALID), verbose = 1, epochs  = 256)\n",
        "prediction = model.predict(my_new_xt)\n",
        "# Check what's in the history\n",
        "print(history.params)\n",
        "from sklearn.metrics import accuracy_score, precision_score, recall_score, f1_score\n",
        "accuracy4 = accuracy_score(YTRAIN, prediction.round())\n",
        "precision = precision_score(YTRAIN, prediction.round())\n",
        "recall = recall_score(YTRAIN, prediction.round())\n",
        "f1score = f1_score(YTRAIN, prediction.round())\n",
        "print(\"Accuracy: %.2f%%\" % (accuracy4 * 100.0))\n",
        "print(\"Precision: %.2f%%\" % (precision * 100.0))\n",
        "print(\"Recall: %.2f%%\" % (recall * 100.0))\n",
        "print(\"F1-score: %.2f\" % (f1score))"
      ],
      "execution_count": null,
      "outputs": []
    },
    {
      "cell_type": "code",
      "metadata": {
        "id": "6u3mP4lTkDjp"
      },
      "source": [
        "my_new_xt = XTRAIN[:, 4]\n",
        "my_new_xv = XVALID[:, 4]\n",
        "model = Sequential()\n",
        "model.add(Dense(1, input_dim = 1, activation='sigmoid'))\n",
        "model.compile(loss='binary_crossentropy', optimizer = 'rmsprop', metrics=['accuracy'])\n",
        "model.summary()\n",
        "# Learn the model from training set\n",
        "model.fit(my_new_xt, YTRAIN)\n",
        "# Evaluate on the training set (should deliver high accuracy)\n",
        "p_training = model.predict(my_new_xt)\n",
        "accuracyt = model.evaluate(my_new_xt, YTRAIN)\n",
        "#Evaluate on the validation set\n",
        "p_valid = model.predict(my_new_xt)\n",
        "accuracyv = model.evaluate(my_new_xv, YVALID)\n",
        "print(accuracyv)\n",
        "print(accuracyt)\n",
        "# Do the training (specify the validation set as well)\n",
        "history = model.fit(my_new_xt, YTRAIN, validation_data = (my_new_xv, YVALID), verbose = 1, epochs  = 256)\n",
        "prediction = model.predict(my_new_xt)\n",
        "# Check what's in the history\n",
        "print(history.params)\n",
        "from sklearn.metrics import accuracy_score, precision_score, recall_score, f1_score\n",
        "accuracy5 = accuracy_score(YTRAIN, prediction.round())\n",
        "precision = precision_score(YTRAIN, prediction.round())\n",
        "recall = recall_score(YTRAIN, prediction.round())\n",
        "f1score = f1_score(YTRAIN, prediction.round())\n",
        "print(\"Accuracy: %.2f%%\" % (accuracy5 * 100.0))\n",
        "print(\"Precision: %.2f%%\" % (precision * 100.0))\n",
        "print(\"Recall: %.2f%%\" % (recall * 100.0))\n",
        "print(\"F1-score: %.2f\" % (f1score))"
      ],
      "execution_count": null,
      "outputs": []
    },
    {
      "cell_type": "code",
      "metadata": {
        "id": "b1VIW7ZokFJM"
      },
      "source": [
        "my_new_xt = XTRAIN[:, 5]\n",
        "my_new_xv = XVALID[:, 5]\n",
        "model = Sequential()\n",
        "model.add(Dense(1, input_dim = 1, activation='sigmoid'))\n",
        "model.compile(loss='binary_crossentropy', optimizer = 'rmsprop', metrics=['accuracy'])\n",
        "model.summary()\n",
        "# Learn the model from training set\n",
        "model.fit(my_new_xt, YTRAIN)\n",
        "# Evaluate on the training set (should deliver high accuracy)\n",
        "p_training = model.predict(my_new_xt)\n",
        "accuracyt = model.evaluate(my_new_xt, YTRAIN)\n",
        "#Evaluate on the validation set\n",
        "p_valid = model.predict(my_new_xt)\n",
        "accuracyv = model.evaluate(my_new_xv, YVALID)\n",
        "print(accuracyv)\n",
        "print(accuracyt)\n",
        "# Do the training (specify the validation set as well)\n",
        "history = model.fit(my_new_xt, YTRAIN, validation_data = (my_new_xv, YVALID), verbose = 1, epochs  = 256)\n",
        "prediction = model.predict(my_new_xt)\n",
        "# Check what's in the history\n",
        "print(history.params)\n",
        "from sklearn.metrics import accuracy_score, precision_score, recall_score, f1_score\n",
        "accuracy6 = accuracy_score(YTRAIN, prediction.round())\n",
        "precision = precision_score(YTRAIN, prediction.round())\n",
        "recall = recall_score(YTRAIN, prediction.round())\n",
        "f1score = f1_score(YTRAIN, prediction.round())\n",
        "print(\"Accuracy: %.2f%%\" % (accuracy6 * 100.0))\n",
        "print(\"Precision: %.2f%%\" % (precision * 100.0))\n",
        "print(\"Recall: %.2f%%\" % (recall * 100.0))\n",
        "print(\"F1-score: %.2f\" % (f1score))"
      ],
      "execution_count": null,
      "outputs": []
    },
    {
      "cell_type": "code",
      "metadata": {
        "id": "Pn-hZyl6sHe_"
      },
      "source": [
        "data = {'buying price':accuracy1, 'maintenance':accuracy2, 'doors':accuracy3,'persons':accuracy4,'lug_boot':accuracy5,'safety':accuracy6}\n",
        "input_data = list(data.keys())\n",
        "accuracy_value = list(data.values())\n",
        "fig = plt.figure(figsize = (10, 5))\n",
        "plt.bar(input_data, accuracy_value, color ='red', width = 0.4)\n",
        "plt.xlabel(\"input data feature\")\n",
        "plt.ylabel(\"accuracy\")\n",
        "plt.title(\"input data feature accuracy\")\n",
        "plt.show()"
      ],
      "execution_count": null,
      "outputs": []
    },
    {
      "cell_type": "code",
      "metadata": {
        "id": "0PUkNBoAj8OO"
      },
      "source": [
        "index_30percent = int(0.3 * len(dataset[:, 0]))\n",
        "print(index_30percent)\n",
        "# Split into training and validation, 30% validation set and 70% training \n",
        "XVALID = dataset[:index_30percent, :-1]\n",
        "YVALID = dataset[:index_30percent, -1]\n",
        "XTRAIN = dataset[index_30percent:, :-1]\n",
        "YTRAIN = dataset[index_30percent:, -1]\n",
        "model = Sequential()\n",
        "model.add(Dense(1, input_dim = len(XTRAIN[0, :]), activation='sigmoid'))\n",
        "model.compile(loss='binary_crossentropy', optimizer = 'rmsprop', metrics=['accuracy'])\n",
        "model.summary()\n",
        "# Learn the model from training set\n",
        "model.fit(XTRAIN, YTRAIN)\n",
        "# Evaluate on the training set (should deliver high accuracy)\n",
        "p_training = model.predict(XTRAIN)\n",
        "accuracyt = model.evaluate(XTRAIN, YTRAIN)\n",
        "#Evaluate on the validation set\n",
        "p_valid = model.predict(XTRAIN)\n",
        "accuracyv = model.evaluate(XVALID, YVALID)\n",
        "print(accuracyv)\n",
        "print(accuracyt)\n",
        "# Do the training (specify the validation set as well)\n",
        "history = model.fit(XTRAIN, YTRAIN, validation_data = (XVALID, YVALID), verbose = 1, epochs  = 256)\n",
        "prediction = model.predict(XTRAIN)\n",
        "# Check what's in the history\n",
        "print(history.params)\n",
        "from sklearn.metrics import accuracy_score, precision_score, recall_score, f1_score\n",
        "accuracy = accuracy_score(YTRAIN, prediction.round())\n",
        "precision = precision_score(YTRAIN, prediction.round())\n",
        "recall = recall_score(YTRAIN, prediction.round())\n",
        "f1score = f1_score(YTRAIN, prediction.round())\n",
        "print(\"Accuracy: %.2f%%\" % (accuracy * 100.0))\n",
        "print(\"Precision: %.2f%%\" % (precision * 100.0))\n",
        "print(\"Recall: %.2f%%\" % (recall * 100.0))\n",
        "print(\"F1-score: %.2f\" % (f1score))"
      ],
      "execution_count": null,
      "outputs": []
    },
    {
      "cell_type": "code",
      "metadata": {
        "id": "cdjXTC1HGK3U"
      },
      "source": [
        "del_input = np.delete(dataset,0,1)#delete first column\n",
        "index_30percent = int(0.3 * len(del_input[:, 0]))\n",
        "print(index_30percent)\n",
        "# Split into training and validation, 30% validation set and 70% training \n",
        "XVALID = del_input[:index_30percent, :-1]\n",
        "YVALID = del_input[:index_30percent, -1]\n",
        "XTRAIN = del_input[index_30percent:, :-1]\n",
        "YTRAIN = del_input[index_30percent:, -1]\n",
        "print(XVALID.shape)\n",
        "print(YVALID.shape)\n",
        "print(XTRAIN.shape)\n",
        "print(YTRAIN.shape)\n",
        "model = Sequential()\n",
        "model.add(Dense(1, input_dim = len(XTRAIN[0, :]), activation='sigmoid'))\n",
        "model.compile(loss='binary_crossentropy', optimizer = 'rmsprop', metrics=['accuracy'])\n",
        "model.summary()\n",
        "# Learn the model from training set\n",
        "model.fit(XTRAIN, YTRAIN)\n",
        "# Evaluate on the training set (should deliver high accuracy)\n",
        "p_training = model.predict(XTRAIN)\n",
        "accuracyt = model.evaluate(XTRAIN, YTRAIN)\n",
        "#Evaluate on the validation set\n",
        "p_valid = model.predict(XTRAIN)\n",
        "accuracyv = model.evaluate(XVALID, YVALID)\n",
        "print(accuracyv)\n",
        "print(accuracyt)\n",
        "# Do the training (specify the validation set as well)\n",
        "history = model.fit(XTRAIN, YTRAIN, validation_data = (XVALID, YVALID), verbose = 1, epochs  = 256)\n",
        "prediction = model.predict(XTRAIN)\n",
        "# Check what's in the history\n",
        "print(history.params)\n",
        "from sklearn.metrics import accuracy_score, precision_score, recall_score, f1_score\n",
        "accuracy = accuracy_score(YTRAIN, prediction.round())\n",
        "precision = precision_score(YTRAIN, prediction.round())\n",
        "recall = recall_score(YTRAIN, prediction.round())\n",
        "f1score = f1_score(YTRAIN, prediction.round())\n",
        "print(\"Accuracy: %.2f%%\" % (accuracy * 100.0))\n",
        "print(\"Precision: %.2f%%\" % (precision * 100.0))\n",
        "print(\"Recall: %.2f%%\" % (recall * 100.0))\n",
        "print(\"F1-score: %.2f\" % (f1score))\n"
      ],
      "execution_count": null,
      "outputs": []
    },
    {
      "cell_type": "code",
      "metadata": {
        "id": "Nb2vQNhXGk-L"
      },
      "source": [
        "del_input = np.delete(dataset,1,1)#delete second column\n",
        "index_30percent = int(0.3 * len(del_input[:, 0]))\n",
        "print(index_30percent)\n",
        "# Split into training and validation, 30% validation set and 70% training \n",
        "XVALID = del_input[:index_30percent, :-1]\n",
        "YVALID = del_input[:index_30percent, -1]\n",
        "XTRAIN = del_input[index_30percent:, :-1]\n",
        "YTRAIN = del_input[index_30percent:, -1]\n",
        "print(XVALID.shape)\n",
        "print(YVALID.shape)\n",
        "print(XTRAIN.shape)\n",
        "print(YTRAIN.shape)\n",
        "model = Sequential()\n",
        "model.add(Dense(1, input_dim = len(XTRAIN[0, :]), activation='sigmoid'))\n",
        "model.compile(loss='binary_crossentropy', optimizer = 'rmsprop', metrics=['accuracy'])\n",
        "model.summary()\n",
        "# Learn the model from training set\n",
        "model.fit(XTRAIN, YTRAIN)\n",
        "# Evaluate on the training set (should deliver high accuracy)\n",
        "p_training = model.predict(XTRAIN)\n",
        "accuracyt = model.evaluate(XTRAIN, YTRAIN)\n",
        "#Evaluate on the validation set\n",
        "p_valid = model.predict(XTRAIN)\n",
        "accuracyv = model.evaluate(XVALID, YVALID)\n",
        "print(accuracyv)\n",
        "print(accuracyt)\n",
        "# Do the training (specify the validation set as well)\n",
        "history = model.fit(XTRAIN, YTRAIN, validation_data = (XVALID, YVALID), verbose = 1, epochs  = 256)\n",
        "prediction = model.predict(XTRAIN)\n",
        "# Check what's in the history\n",
        "print(history.params)\n",
        "from sklearn.metrics import accuracy_score, precision_score, recall_score, f1_score\n",
        "accuracy = accuracy_score(YTRAIN, prediction.round())\n",
        "precision = precision_score(YTRAIN, prediction.round())\n",
        "recall = recall_score(YTRAIN, prediction.round())\n",
        "f1score = f1_score(YTRAIN, prediction.round())\n",
        "print(\"Accuracy: %.2f%%\" % (accuracy * 100.0))\n",
        "print(\"Precision: %.2f%%\" % (precision * 100.0))\n",
        "print(\"Recall: %.2f%%\" % (recall * 100.0))\n",
        "print(\"F1-score: %.2f\" % (f1score))"
      ],
      "execution_count": null,
      "outputs": []
    },
    {
      "cell_type": "code",
      "metadata": {
        "id": "tBI9YlY5ifwi"
      },
      "source": [
        "del_input = np.delete(dataset,2,1)#delete third column\n",
        "index_30percent = int(0.3 * len(del_input[:, 0]))\n",
        "print(index_30percent)\n",
        "# Split into training and validation, 30% validation set and 70% training \n",
        "XVALID = del_input[:index_30percent, :-1]\n",
        "YVALID = del_input[:index_30percent, -1]\n",
        "XTRAIN = del_input[index_30percent:, :-1]\n",
        "YTRAIN = del_input[index_30percent:, -1]\n",
        "print(XVALID.shape)\n",
        "print(YVALID.shape)\n",
        "print(XTRAIN.shape)\n",
        "print(YTRAIN.shape)\n",
        "model = Sequential()\n",
        "model.add(Dense(1, input_dim = len(XTRAIN[0, :]), activation='sigmoid'))\n",
        "model.compile(loss='binary_crossentropy', optimizer = 'rmsprop', metrics=['accuracy'])\n",
        "model.summary()\n",
        "# Learn the model from training set\n",
        "model.fit(XTRAIN, YTRAIN)\n",
        "# Evaluate on the training set (should deliver high accuracy)\n",
        "p_training = model.predict(XTRAIN)\n",
        "accuracyt = model.evaluate(XTRAIN, YTRAIN)\n",
        "#Evaluate on the validation set\n",
        "p_valid = model.predict(XTRAIN)\n",
        "accuracyv = model.evaluate(XVALID, YVALID)\n",
        "print(accuracyv)\n",
        "print(accuracyt)\n",
        "# Do the training (specify the validation set as well)\n",
        "history = model.fit(XTRAIN, YTRAIN, validation_data = (XVALID, YVALID), verbose = 1, epochs  = 256)\n",
        "prediction = model.predict(XTRAIN)\n",
        "# Check what's in the history\n",
        "print(history.params)\n",
        "from sklearn.metrics import accuracy_score, precision_score, recall_score, f1_score\n",
        "accuracy = accuracy_score(YTRAIN, prediction.round())\n",
        "precision = precision_score(YTRAIN, prediction.round())\n",
        "recall = recall_score(YTRAIN, prediction.round())\n",
        "f1score = f1_score(YTRAIN, prediction.round())\n",
        "print(\"Accuracy: %.2f%%\" % (accuracy * 100.0))\n",
        "print(\"Precision: %.2f%%\" % (precision * 100.0))\n",
        "print(\"Recall: %.2f%%\" % (recall * 100.0))\n",
        "print(\"F1-score: %.2f\" % (f1score))"
      ],
      "execution_count": null,
      "outputs": []
    },
    {
      "cell_type": "code",
      "metadata": {
        "id": "hCFATdVdih6o"
      },
      "source": [
        "del_input = np.delete(dataset,3,1)#delete fourth column\n",
        "index_30percent = int(0.3 * len(del_input[:, 0]))\n",
        "print(index_30percent)\n",
        "# Split into training and validation, 30% validation set and 70% training \n",
        "XVALID = del_input[:index_30percent, :-1]\n",
        "YVALID = del_input[:index_30percent, -1]\n",
        "XTRAIN = del_input[index_30percent:, :-1]\n",
        "YTRAIN = del_input[index_30percent:, -1]\n",
        "print(XVALID.shape)\n",
        "print(YVALID.shape)\n",
        "print(XTRAIN.shape)\n",
        "print(YTRAIN.shape)\n",
        "model = Sequential()\n",
        "model.add(Dense(1, input_dim = len(XTRAIN[0, :]), activation='sigmoid'))\n",
        "model.compile(loss='binary_crossentropy', optimizer = 'rmsprop', metrics=['accuracy'])\n",
        "model.summary()\n",
        "# Learn the model from training set\n",
        "model.fit(XTRAIN, YTRAIN)\n",
        "# Evaluate on the training set (should deliver high accuracy)\n",
        "p_training = model.predict(XTRAIN)\n",
        "accuracyt = model.evaluate(XTRAIN, YTRAIN)\n",
        "#Evaluate on the validation set\n",
        "p_valid = model.predict(XTRAIN)\n",
        "accuracyv = model.evaluate(XVALID, YVALID)\n",
        "print(accuracyv)\n",
        "print(accuracyt)\n",
        "# Do the training (specify the validation set as well)\n",
        "history = model.fit(XTRAIN, YTRAIN, validation_data = (XVALID, YVALID), verbose = 1, epochs  = 256)\n",
        "prediction = model.predict(XTRAIN)\n",
        "# Check what's in the history\n",
        "print(history.params)\n",
        "from sklearn.metrics import accuracy_score, precision_score, recall_score, f1_score\n",
        "accuracy = accuracy_score(YTRAIN, prediction.round())\n",
        "precision = precision_score(YTRAIN, prediction.round())\n",
        "recall = recall_score(YTRAIN, prediction.round())\n",
        "f1score = f1_score(YTRAIN, prediction.round())\n",
        "print(\"Accuracy: %.2f%%\" % (accuracy * 100.0))\n",
        "print(\"Precision: %.2f%%\" % (precision * 100.0))\n",
        "print(\"Recall: %.2f%%\" % (recall * 100.0))\n",
        "print(\"F1-score: %.2f\" % (f1score))"
      ],
      "execution_count": null,
      "outputs": []
    },
    {
      "cell_type": "code",
      "metadata": {
        "id": "JmtiIxCAipD4"
      },
      "source": [
        "del_input = np.delete(dataset,4,1)#delete fith column\n",
        "index_30percent = int(0.3 * len(del_input[:, 0]))\n",
        "print(index_30percent)\n",
        "# Split into training and validation, 30% validation set and 70% training \n",
        "XVALID = del_input[:index_30percent, :-1]\n",
        "YVALID = del_input[:index_30percent, -1]\n",
        "XTRAIN = del_input[index_30percent:, :-1]\n",
        "YTRAIN = del_input[index_30percent:, -1]\n",
        "print(XVALID.shape)\n",
        "print(YVALID.shape)\n",
        "print(XTRAIN.shape)\n",
        "print(YTRAIN.shape)\n",
        "model = Sequential()\n",
        "model.add(Dense(1, input_dim = len(XTRAIN[0, :]), activation='sigmoid'))\n",
        "model.compile(loss='binary_crossentropy', optimizer = 'rmsprop', metrics=['accuracy'])\n",
        "model.summary()\n",
        "# Learn the model from training set\n",
        "model.fit(XTRAIN, YTRAIN)\n",
        "# Evaluate on the training set (should deliver high accuracy)\n",
        "p_training = model.predict(XTRAIN)\n",
        "accuracyt = model.evaluate(XTRAIN, YTRAIN)\n",
        "#Evaluate on the validation set\n",
        "p_valid = model.predict(XTRAIN)\n",
        "accuracyv = model.evaluate(XVALID, YVALID)\n",
        "print(accuracyv)\n",
        "print(accuracyt)\n",
        "# Do the training (specify the validation set as well)\n",
        "history = model.fit(XTRAIN, YTRAIN, validation_data = (XVALID, YVALID), verbose = 1, epochs  = 256)\n",
        "prediction = model.predict(XTRAIN)\n",
        "# Check what's in the history\n",
        "print(history.params)\n",
        "from sklearn.metrics import accuracy_score, precision_score, recall_score, f1_score\n",
        "accuracy = accuracy_score(YTRAIN, prediction.round())\n",
        "precision = precision_score(YTRAIN, prediction.round())\n",
        "recall = recall_score(YTRAIN, prediction.round())\n",
        "f1score = f1_score(YTRAIN, prediction.round())\n",
        "print(\"Accuracy: %.2f%%\" % (accuracy * 100.0))\n",
        "print(\"Precision: %.2f%%\" % (precision * 100.0))\n",
        "print(\"Recall: %.2f%%\" % (recall * 100.0))\n",
        "print(\"F1-score: %.2f\" % (f1score))"
      ],
      "execution_count": null,
      "outputs": []
    },
    {
      "cell_type": "code",
      "metadata": {
        "id": "QjGgwRSVitBT"
      },
      "source": [
        "del_input = np.delete(dataset,5,1)#delete sixth column\n",
        "index_30percent = int(0.3 * len(del_input[:, 0]))\n",
        "print(index_30percent)\n",
        "# Split into training and validation, 30% validation set and 70% training \n",
        "XVALID = del_input[:index_30percent, :-1]\n",
        "YVALID = del_input[:index_30percent, -1]\n",
        "XTRAIN = del_input[index_30percent:, :-1]\n",
        "YTRAIN = del_input[index_30percent:, -1]\n",
        "print(XVALID.shape)\n",
        "print(YVALID.shape)\n",
        "print(XTRAIN.shape)\n",
        "print(YTRAIN.shape)\n",
        "model = Sequential()\n",
        "model.add(Dense(1, input_dim = len(XTRAIN[0, :]), activation='sigmoid'))\n",
        "model.compile(loss='binary_crossentropy', optimizer = 'rmsprop', metrics=['accuracy'])\n",
        "model.summary()\n",
        "# Learn the model from training set\n",
        "model.fit(XTRAIN, YTRAIN)\n",
        "# Evaluate on the training set (should deliver high accuracy)\n",
        "p_training = model.predict(XTRAIN)\n",
        "accuracyt = model.evaluate(XTRAIN, YTRAIN)\n",
        "#Evaluate on the validation set\n",
        "p_valid = model.predict(XTRAIN)\n",
        "accuracyv = model.evaluate(XVALID, YVALID)\n",
        "print(accuracyv)\n",
        "print(accuracyt)\n",
        "# Do the training (specify the validation set as well)\n",
        "history = model.fit(XTRAIN, YTRAIN, validation_data = (XVALID, YVALID), verbose = 1, epochs  = 256)\n",
        "prediction = model.predict(XTRAIN)\n",
        "# Check what's in the history\n",
        "print(history.params)\n",
        "from sklearn.metrics import accuracy_score, precision_score, recall_score, f1_score\n",
        "accuracy = accuracy_score(YTRAIN, prediction.round())\n",
        "precision = precision_score(YTRAIN, prediction.round())\n",
        "recall = recall_score(YTRAIN, prediction.round())\n",
        "f1score = f1_score(YTRAIN, prediction.round())\n",
        "print(\"Accuracy: %.2f%%\" % (accuracy * 100.0))\n",
        "print(\"Precision: %.2f%%\" % (precision * 100.0))\n",
        "print(\"Recall: %.2f%%\" % (recall * 100.0))\n",
        "print(\"F1-score: %.2f\" % (f1score))"
      ],
      "execution_count": null,
      "outputs": []
    },
    {
      "cell_type": "code",
      "metadata": {
        "id": "HZ-64Kd92BQT"
      },
      "source": [
        "del_input = np.delete(dataset,0,1)#delete first column\n",
        "index_30percent = int(0.3 * len(del_input[:, 0]))\n",
        "print(index_30percent)\n",
        "# Split into training and validation, 30% validation set and 70% training \n",
        "XVALID = del_input[:index_30percent, :-1]\n",
        "YVALID = del_input[:index_30percent, -1]\n",
        "XTRAIN = del_input[index_30percent:, :-1]\n",
        "YTRAIN = del_input[index_30percent:, -1]\n",
        "print(XVALID.shape)\n",
        "print(YVALID.shape)\n",
        "print(XTRAIN.shape)\n",
        "print(YTRAIN.shape)\n",
        "model = Sequential()\n",
        "model.add(Dense(1, input_dim = len(XTRAIN[0, :]), activation='sigmoid'))\n",
        "model.compile(loss='binary_crossentropy', optimizer = 'rmsprop', metrics=['accuracy'])\n",
        "model.summary()\n",
        "# Learn the model from training set\n",
        "model.fit(XTRAIN, YTRAIN)\n",
        "# Evaluate on the training set (should deliver high accuracy)\n",
        "p_training = model.predict(XTRAIN)\n",
        "accuracyt = model.evaluate(XTRAIN, YTRAIN)\n",
        "#Evaluate on the validation set\n",
        "p_valid = model.predict(XTRAIN)\n",
        "accuracyv = model.evaluate(XVALID, YVALID)\n",
        "print(accuracyv)\n",
        "print(accuracyt)\n",
        "# Do the training (specify the validation set as well)\n",
        "history = model.fit(XTRAIN, YTRAIN, validation_data = (XVALID, YVALID), verbose = 1, epochs  = 256)\n",
        "prediction = model.predict(XTRAIN)\n",
        "# Check what's in the history\n",
        "print(history.params)\n",
        "from sklearn.metrics import accuracy_score, precision_score, recall_score, f1_score\n",
        "accuracy = accuracy_score(YTRAIN, prediction.round())\n",
        "precision = precision_score(YTRAIN, prediction.round())\n",
        "recall = recall_score(YTRAIN, prediction.round())\n",
        "f1score = f1_score(YTRAIN, prediction.round())\n",
        "print(\"Accuracy: %.2f%%\" % (accuracy * 100.0))\n",
        "print(\"Precision: %.2f%%\" % (precision * 100.0))\n",
        "print(\"Recall: %.2f%%\" % (recall * 100.0))\n",
        "print(\"F1-score: %.2f\" % (f1score))"
      ],
      "execution_count": null,
      "outputs": []
    },
    {
      "cell_type": "code",
      "metadata": {
        "id": "x3NxmwcV2OTZ"
      },
      "source": [
        "del_input = np.delete(dataset,0,1)#delete first column\n",
        "del_input12 = np.delete(del_input,0,1)#delete second column which is the first column using dataset del_input\n",
        "index_30percent = int(0.3 * len(del_input12[:, 0]))\n",
        "print(index_30percent)\n",
        "# Split into training and validation, 30% validation set and 70% training \n",
        "XVALID = del_input12[:index_30percent, :-1]\n",
        "YVALID = del_input12[:index_30percent, -1]\n",
        "XTRAIN = del_input12[index_30percent:, :-1]\n",
        "YTRAIN = del_input12[index_30percent:, -1]\n",
        "print(XVALID.shape)\n",
        "print(YVALID.shape)\n",
        "print(XTRAIN.shape)\n",
        "print(YTRAIN.shape)\n",
        "model = Sequential()\n",
        "model.add(Dense(1, input_dim = len(XTRAIN[0, :]), activation='sigmoid'))\n",
        "model.compile(loss='binary_crossentropy', optimizer = 'rmsprop', metrics=['accuracy'])\n",
        "model.summary()\n",
        "# Learn the model from training set\n",
        "model.fit(XTRAIN, YTRAIN)\n",
        "# Evaluate on the training set (should deliver high accuracy)\n",
        "p_training = model.predict(XTRAIN)\n",
        "accuracyt = model.evaluate(XTRAIN, YTRAIN)\n",
        "#Evaluate on the validation set\n",
        "p_valid = model.predict(XTRAIN)\n",
        "accuracyv = model.evaluate(XVALID, YVALID)\n",
        "print(accuracyv)\n",
        "print(accuracyt)\n",
        "# Do the training (specify the validation set as well)\n",
        "history = model.fit(XTRAIN, YTRAIN, validation_data = (XVALID, YVALID), verbose = 1, epochs  = 256)\n",
        "prediction = model.predict(XTRAIN)\n",
        "# Check what's in the history\n",
        "print(history.params)\n",
        "from sklearn.metrics import accuracy_score, precision_score, recall_score, f1_score\n",
        "accuracy = accuracy_score(YTRAIN, prediction.round())\n",
        "precision = precision_score(YTRAIN, prediction.round())\n",
        "recall = recall_score(YTRAIN, prediction.round())\n",
        "f1score = f1_score(YTRAIN, prediction.round())\n",
        "print(\"Accuracy: %.2f%%\" % (accuracy * 100.0))\n",
        "print(\"Precision: %.2f%%\" % (precision * 100.0))\n",
        "print(\"Recall: %.2f%%\" % (recall * 100.0))\n",
        "print(\"F1-score: %.2f\" % (f1score))"
      ],
      "execution_count": null,
      "outputs": []
    },
    {
      "cell_type": "code",
      "metadata": {
        "id": "jEqTdXJt2yDS"
      },
      "source": [
        "del_input = np.delete(dataset,0,1)#delete first column\n",
        "del_input12 = np.delete(del_input,0,1)#delete second column which is the first column using dataset del_input\n",
        "del_input123 = np.delete(del_input,0,1)#delete third column which is the first column using dataset del_input12\n",
        "index_30percent = int(0.3 * len(del_input123[:, 0]))\n",
        "print(index_30percent)\n",
        "# Split into training and validation, 30% validation set and 70% training \n",
        "XVALID = del_input123[:index_30percent, :-1]\n",
        "YVALID = del_input123[:index_30percent, -1]\n",
        "XTRAIN = del_input123[index_30percent:, :-1]\n",
        "YTRAIN = del_input123[index_30percent:, -1]\n",
        "print(XVALID.shape)\n",
        "print(YVALID.shape)\n",
        "print(XTRAIN.shape)\n",
        "print(YTRAIN.shape)\n",
        "model = Sequential()\n",
        "model.add(Dense(1, input_dim = len(XTRAIN[0, :]), activation='sigmoid'))\n",
        "model.compile(loss='binary_crossentropy', optimizer = 'rmsprop', metrics=['accuracy'])\n",
        "model.summary()\n",
        "# Learn the model from training set\n",
        "model.fit(XTRAIN, YTRAIN)\n",
        "# Evaluate on the training set (should deliver high accuracy)\n",
        "p_training = model.predict(XTRAIN)\n",
        "accuracyt = model.evaluate(XTRAIN, YTRAIN)\n",
        "#Evaluate on the validation set\n",
        "p_valid = model.predict(XTRAIN)\n",
        "accuracyv = model.evaluate(XVALID, YVALID)\n",
        "print(accuracyv)\n",
        "print(accuracyt)\n",
        "# Do the training (specify the validation set as well)\n",
        "history = model.fit(XTRAIN, YTRAIN, validation_data = (XVALID, YVALID), verbose = 1, epochs  = 256)\n",
        "prediction = model.predict(XTRAIN)\n",
        "# Check what's in the history\n",
        "print(history.params)\n",
        "from sklearn.metrics import accuracy_score, precision_score, recall_score, f1_score\n",
        "accuracy = accuracy_score(YTRAIN, prediction.round())\n",
        "precision = precision_score(YTRAIN, prediction.round())\n",
        "recall = recall_score(YTRAIN, prediction.round())\n",
        "f1score = f1_score(YTRAIN, prediction.round())\n",
        "print(\"Accuracy: %.2f%%\" % (accuracy * 100.0))\n",
        "print(\"Precision: %.2f%%\" % (precision * 100.0))\n",
        "print(\"Recall: %.2f%%\" % (recall * 100.0))\n",
        "print(\"F1-score: %.2f\" % (f1score))"
      ],
      "execution_count": null,
      "outputs": []
    },
    {
      "cell_type": "code",
      "metadata": {
        "id": "JhPd6I133a-j"
      },
      "source": [
        "del_input = np.delete(dataset,0,1)#delete first column\n",
        "del_input12 = np.delete(del_input,0,1)#delete second column which is the first column using dataset del_input\n",
        "del_input123 = np.delete(del_input,0,1)#delete third column which is the first column using dataset del_input12\n",
        "del_input1235 = np.delete(del_input,1,1)#delete fifth column which is the second column using dataset del_input123\n",
        "index_30percent = int(0.3 * len(del_input1235[:, 0]))\n",
        "print(index_30percent)\n",
        "# Split into training and validation, 30% validation set and 70% training \n",
        "XVALID = del_input1235[:index_30percent, :-1]\n",
        "YVALID = del_input1235[:index_30percent, -1]\n",
        "XTRAIN = del_input1235[index_30percent:, :-1]\n",
        "YTRAIN = del_input1235[index_30percent:, -1]\n",
        "print(XVALID.shape)\n",
        "print(YVALID.shape)\n",
        "print(XTRAIN.shape)\n",
        "print(YTRAIN.shape)\n",
        "model = Sequential()\n",
        "model.add(Dense(1, input_dim = len(XTRAIN[0, :]), activation='sigmoid'))\n",
        "model.compile(loss='binary_crossentropy', optimizer = 'rmsprop', metrics=['accuracy'])\n",
        "model.summary()\n",
        "# Learn the model from training set\n",
        "model.fit(XTRAIN, YTRAIN)\n",
        "# Evaluate on the training set (should deliver high accuracy)\n",
        "p_training = model.predict(XTRAIN)\n",
        "accuracyt = model.evaluate(XTRAIN, YTRAIN)\n",
        "#Evaluate on the validation set\n",
        "p_valid = model.predict(XTRAIN)\n",
        "accuracyv = model.evaluate(XVALID, YVALID)\n",
        "print(accuracyv)\n",
        "print(accuracyt)\n",
        "# Do the training (specify the validation set as well)\n",
        "history = model.fit(XTRAIN, YTRAIN, validation_data = (XVALID, YVALID), verbose = 1, epochs  = 256)\n",
        "prediction = model.predict(XTRAIN)\n",
        "# Check what's in the history\n",
        "print(history.params)\n",
        "from sklearn.metrics import accuracy_score, precision_score, recall_score, f1_score\n",
        "accuracy = accuracy_score(YTRAIN, prediction.round())\n",
        "precision = precision_score(YTRAIN, prediction.round())\n",
        "recall = recall_score(YTRAIN, prediction.round())\n",
        "f1score = f1_score(YTRAIN, prediction.round())\n",
        "print(\"Accuracy: %.2f%%\" % (accuracy * 100.0))\n",
        "print(\"Precision: %.2f%%\" % (precision * 100.0))\n",
        "print(\"Recall: %.2f%%\" % (recall * 100.0))\n",
        "print(\"F1-score: %.2f\" % (f1score))"
      ],
      "execution_count": null,
      "outputs": []
    },
    {
      "cell_type": "code",
      "metadata": {
        "id": "7GA1noRU4G7X"
      },
      "source": [
        "del_input = np.delete(dataset,0,1)#delete first column\n",
        "del_input12 = np.delete(del_input,0,1)#delete second column which is the first column using dataset del_input\n",
        "del_input123 = np.delete(del_input,0,1)#delete third column which is the first column using dataset del_input12\n",
        "del_input1235 = np.delete(del_input,1,1)#delete fifth column which is the second column using dataset del_input123\n",
        "del_input12354 = np.delete(del_input,0,1)#delete fourth column which is the first column using dataset del_input1235\n",
        "index_30percent = int(0.3 * len(del_input12354[:, 0]))\n",
        "print(index_30percent)\n",
        "# Split into training and validation, 30% validation set and 70% training \n",
        "XVALID = del_input12354[:index_30percent, :-1]\n",
        "YVALID = del_input12354[:index_30percent, -1]\n",
        "XTRAIN = del_input12354[index_30percent:, :-1]\n",
        "YTRAIN = del_input12354[index_30percent:, -1]\n",
        "print(XVALID.shape)\n",
        "print(YVALID.shape)\n",
        "print(XTRAIN.shape)\n",
        "print(YTRAIN.shape)\n",
        "model = Sequential()\n",
        "model.add(Dense(1, input_dim = len(XTRAIN[0, :]), activation='sigmoid'))\n",
        "model.compile(loss='binary_crossentropy', optimizer = 'rmsprop', metrics=['accuracy'])\n",
        "model.summary()\n",
        "# Learn the model from training set\n",
        "model.fit(XTRAIN, YTRAIN)\n",
        "# Evaluate on the training set (should deliver high accuracy)\n",
        "p_training = model.predict(XTRAIN)\n",
        "accuracyt = model.evaluate(XTRAIN, YTRAIN)\n",
        "#Evaluate on the validation set\n",
        "p_valid = model.predict(XTRAIN)\n",
        "accuracyv = model.evaluate(XVALID, YVALID)\n",
        "print(accuracyv)\n",
        "print(accuracyt)\n",
        "# Do the training (specify the validation set as well)\n",
        "history = model.fit(XTRAIN, YTRAIN, validation_data = (XVALID, YVALID), verbose = 1, epochs  = 256)\n",
        "prediction = model.predict(XTRAIN)\n",
        "# Check what's in the history\n",
        "print(history.params)\n",
        "from sklearn.metrics import accuracy_score, precision_score, recall_score, f1_score\n",
        "accuracy = accuracy_score(YTRAIN, prediction.round())\n",
        "precision = precision_score(YTRAIN, prediction.round())\n",
        "recall = recall_score(YTRAIN, prediction.round())\n",
        "f1score = f1_score(YTRAIN, prediction.round())\n",
        "print(\"Accuracy: %.2f%%\" % (accuracy * 100.0))\n",
        "print(\"Precision: %.2f%%\" % (precision * 100.0))\n",
        "print(\"Recall: %.2f%%\" % (recall * 100.0))\n",
        "print(\"F1-score: %.2f\" % (f1score))"
      ],
      "execution_count": null,
      "outputs": []
    },
    {
      "cell_type": "code",
      "metadata": {
        "id": "MFmq7KOk4X1N"
      },
      "source": [
        "del_input = np.delete(dataset,0,1)#delete first column\n",
        "del_input12 = np.delete(del_input,0,1)#delete second column which is the first column using dataset del_input\n",
        "del_input123 = np.delete(del_input,0,1)#delete third column which is the first column using dataset del_input12\n",
        "del_input1235 = np.delete(del_input,1,1)#delete fifth column which is the second column using dataset del_input123\n",
        "del_input12354 = np.delete(del_input,0,1)#delete fourth column which is the first column using dataset del_input1235\n",
        "del_input123546 = np.delete(del_input,0,1)#delete sixth column which is the first column using dataset del_input12354\n",
        "index_30percent = int(0.3 * len(del_input123546[:, 0]))\n",
        "print(index_30percent)\n",
        "# Split into training and validation, 30% validation set and 70% training \n",
        "XVALID = del_input123546[:index_30percent, :-1]\n",
        "YVALID = del_input123546[:index_30percent, -1]\n",
        "XTRAIN = del_input123546[index_30percent:, :-1]\n",
        "YTRAIN = del_input123546[index_30percent:, -1]\n",
        "print(XVALID.shape)\n",
        "print(YVALID.shape)\n",
        "print(XTRAIN.shape)\n",
        "print(YTRAIN.shape)\n",
        "model = Sequential()\n",
        "model.add(Dense(1, input_dim = len(XTRAIN[0, :]), activation='sigmoid'))\n",
        "model.compile(loss='binary_crossentropy', optimizer = 'rmsprop', metrics=['accuracy'])\n",
        "model.summary()\n",
        "# Learn the model from training set\n",
        "model.fit(XTRAIN, YTRAIN)\n",
        "# Evaluate on the training set (should deliver high accuracy)\n",
        "p_training = model.predict(XTRAIN)\n",
        "accuracyt = model.evaluate(XTRAIN, YTRAIN)\n",
        "#Evaluate on the validation set\n",
        "p_valid = model.predict(XTRAIN)\n",
        "accuracyv = model.evaluate(XVALID, YVALID)\n",
        "print(accuracyv)\n",
        "print(accuracyt)\n",
        "# Do the training (specify the validation set as well)\n",
        "history = model.fit(XTRAIN, YTRAIN, validation_data = (XVALID, YVALID), verbose = 1, epochs  = 256)\n",
        "prediction = model.predict(XTRAIN)\n",
        "# Check what's in the history\n",
        "print(history.params)\n",
        "from sklearn.metrics import accuracy_score, precision_score, recall_score, f1_score\n",
        "accuracy = accuracy_score(YTRAIN, prediction.round())\n",
        "precision = precision_score(YTRAIN, prediction.round())\n",
        "recall = recall_score(YTRAIN, prediction.round())\n",
        "f1score = f1_score(YTRAIN, prediction.round())\n",
        "print(\"Accuracy: %.2f%%\" % (accuracy * 100.0))\n",
        "print(\"Precision: %.2f%%\" % (precision * 100.0))\n",
        "print(\"Recall: %.2f%%\" % (recall * 100.0))\n",
        "print(\"F1-score: %.2f\" % (f1score))"
      ],
      "execution_count": null,
      "outputs": []
    }
  ]
}